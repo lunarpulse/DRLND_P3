{
 "cells": [
  {
   "cell_type": "markdown",
   "metadata": {},
   "source": [
    "# Collaboration and Competition\n",
    "\n",
    "---\n",
    "\n",
    "In this notebook, you will learn how to use the Unity ML-Agents environment for the third project of the [Deep Reinforcement Learning Nanodegree](https://www.udacity.com/course/deep-reinforcement-learning-nanodegree--nd893) program.\n",
    "\n",
    "### 1. Start the Environment\n",
    "\n",
    "We begin by importing the necessary packages.  If the code cell below returns an error, please revisit the project instructions to double-check that you have installed [Unity ML-Agents](https://github.com/Unity-Technologies/ml-agents/blob/master/docs/Installation.md) and [NumPy](http://www.numpy.org/)."
   ]
  },
  {
   "cell_type": "code",
   "execution_count": 1,
   "metadata": {},
   "outputs": [],
   "source": [
    "from unityagents import UnityEnvironment\n",
    "import numpy as np"
   ]
  },
  {
   "cell_type": "markdown",
   "metadata": {},
   "source": [
    "Next, we will start the environment!  **_Before running the code cell below_**, change the `file_name` parameter to match the location of the Unity environment that you downloaded.\n",
    "\n",
    "- **Mac**: `\"path/to/Tennis.app\"`\n",
    "- **Windows** (x86): `\"path/to/Tennis_Windows_x86/Tennis.exe\"`\n",
    "- **Windows** (x86_64): `\"path/to/Tennis_Windows_x86_64/Tennis.exe\"`\n",
    "- **Linux** (x86): `\"path/to/Tennis_Linux/Tennis.x86\"`\n",
    "- **Linux** (x86_64): `\"path/to/Tennis_Linux/Tennis.x86_64\"`\n",
    "- **Linux** (x86, headless): `\"path/to/Tennis_Linux_NoVis/Tennis.x86\"`\n",
    "- **Linux** (x86_64, headless): `\"path/to/Tennis_Linux_NoVis/Tennis.x86_64\"`\n",
    "\n",
    "For instance, if you are using a Mac, then you downloaded `Tennis.app`.  If this file is in the same folder as the notebook, then the line below should appear as follows:\n",
    "```\n",
    "env = UnityEnvironment(file_name=\"Tennis.app\")\n",
    "```"
   ]
  },
  {
   "cell_type": "code",
   "execution_count": 2,
   "metadata": {},
   "outputs": [
    {
     "name": "stderr",
     "output_type": "stream",
     "text": "INFO:unityagents:\n'Academy' started successfully!\nUnity Academy name: Academy\n        Number of Brains: 1\n        Number of External Brains : 1\n        Lesson number : 0\n        Reset Parameters :\n\t\t\nUnity brain name: TennisBrain\n        Number of Visual Observations (per agent): 0\n        Vector Observation space type: continuous\n        Vector Observation space size (per agent): 8\n        Number of stacked Vector Observation: 3\n        Vector Action space type: continuous\n        Vector Action space size (per agent): 2\n        Vector Action descriptions: , \n"
    }
   ],
   "source": [
    "env = UnityEnvironment(file_name=\"./Tennis_Linux/Tennis.x86_64\")"
   ]
  },
  {
   "cell_type": "markdown",
   "metadata": {},
   "source": [
    "Environments contain **_brains_** which are responsible for deciding the actions of their associated agents. Here we check for the first brain available, and set it as the default brain we will be controlling from Python."
   ]
  },
  {
   "cell_type": "code",
   "execution_count": 3,
   "metadata": {},
   "outputs": [],
   "source": [
    "# get the default brain\n",
    "brain_name = env.brain_names[0]\n",
    "brain = env.brains[brain_name]"
   ]
  },
  {
   "cell_type": "markdown",
   "metadata": {},
   "source": [
    "### 2. Examine the State and Action Spaces\n",
    "\n",
    "In this environment, two agents control rackets to bounce a ball over a net. If an agent hits the ball over the net, it receives a reward of +0.1.  If an agent lets a ball hit the ground or hits the ball out of bounds, it receives a reward of -0.01.  Thus, the goal of each agent is to keep the ball in play.\n",
    "\n",
    "The observation space consists of 8 variables corresponding to the position and velocity of the ball and racket. Two continuous actions are available, corresponding to movement toward (or away from) the net, and jumping. \n",
    "\n",
    "Run the code cell below to print some information about the environment."
   ]
  },
  {
   "cell_type": "code",
   "execution_count": 4,
   "metadata": {},
   "outputs": [
    {
     "name": "stdout",
     "output_type": "stream",
     "text": "Number of agents: 2\nSize of each action: 2\nThere are 2 agents. Each observes a state with length: 24\nThe state for the first agent looks like: [ 0.          0.          0.          0.          0.          0.\n  0.          0.          0.          0.          0.          0.\n  0.          0.          0.          0.         -6.65278625 -1.5\n -0.          0.          6.83172083  6.         -0.          0.        ]\n"
    }
   ],
   "source": [
    "# reset the environment\n",
    "env_info = env.reset(train_mode=True)[brain_name]\n",
    "\n",
    "# number of agents \n",
    "num_agents = len(env_info.agents)\n",
    "print('Number of agents:', num_agents)\n",
    "\n",
    "# size of each action\n",
    "action_size = brain.vector_action_space_size\n",
    "print('Size of each action:', action_size)\n",
    "\n",
    "# examine the state space \n",
    "states = env_info.vector_observations\n",
    "state_size = states.shape[1]\n",
    "print('There are {} agents. Each observes a state with length: {}'.format(states.shape[0], state_size))\n",
    "print('The state for the first agent looks like:', states[0])"
   ]
  },
  {
   "cell_type": "markdown",
   "metadata": {},
   "source": [
    "### 3. Take Random Actions in the Environment\n",
    "\n",
    "In the next code cell, you will learn how to use the Python API to control the agents and receive feedback from the environment.\n",
    "\n",
    "Once this cell is executed, you will watch the agents' performance, if they select actions at random with each time step.  A window should pop up that allows you to observe the agents.\n",
    "\n",
    "Of course, as part of the project, you'll have to change the code so that the agents are able to use their experiences to gradually choose better actions when interacting with the environment!"
   ]
  },
  {
   "cell_type": "code",
   "execution_count": 5,
   "metadata": {},
   "outputs": [
    {
     "name": "stdout",
     "output_type": "stream",
     "text": "Score (max over agents) from episode 1: 0.0\nScore (max over agents) from episode 2: 0.0\nScore (max over agents) from episode 3: 0.0\nScore (max over agents) from episode 4: 0.09000000171363354\nScore (max over agents) from episode 5: 0.09000000171363354\n"
    }
   ],
   "source": [
    "for i in range(1, 6):                                      # play game for 5 episodes\n",
    "    env_info = env.reset(train_mode=False)[brain_name]     # reset the environment    \n",
    "    states = env_info.vector_observations                  # get the current state (for each agent)\n",
    "    scores = np.zeros(num_agents)                          # initialize the score (for each agent)\n",
    "    while True:\n",
    "        actions = np.random.randn(num_agents, action_size) # select an action (for each agent)\n",
    "        actions = np.clip(actions, -1, 1)                  # all actions between -1 and 1\n",
    "        env_info = env.step(actions)[brain_name]           # send all actions to tne environment\n",
    "        next_states = env_info.vector_observations         # get next state (for each agent)\n",
    "        rewards = env_info.rewards                         # get reward (for each agent)\n",
    "        dones = env_info.local_done                        # see if episode finished\n",
    "        scores += env_info.rewards                         # update the score (for each agent)\n",
    "        states = next_states                               # roll over states to next time step\n",
    "        if np.any(dones):                                  # exit loop if episode finished\n",
    "            break\n",
    "    print('Score (max over agents) from episode {}: {}'.format(i, np.max(scores)))"
   ]
  },
  {
   "cell_type": "markdown",
   "metadata": {},
   "source": [
    "When finished, you can close the environment."
   ]
  },
  {
   "cell_type": "markdown",
   "metadata": {},
   "source": [
    "## 4. Training\n",
    "\n",
    "### 1. Learning Algorithm\n",
    "#### 1. Multi Agent Deep Deterministic Policy Gradients (MADPG)\n",
    "\n",
    "Multi Agent Deep Deterministic Policy Gradients (MADDPG) was utilised to solve a two agent Tennis game. MADDPG contains multiple DDPG agents and DDPG can solve continuous control problems.\n",
    "\n",
    "#### 2. Description of MADDPG\n",
    "- The actor network approximates the optimal policy deterministically (best believed action). \n",
    "- The critic evaluates the optimal action value function using the best believed action given by the actor network.\n",
    "- DDPG also uses a `repĺay buffer` where experience tuples are stored.\n",
    "- Acentralized value functions take into account all states/actions from all agents and this can be trained as a multi-agent system with all agents having a centralized critic and (local) policy; The difficult problem in multi-agent control problem is that the environment is not a MDP anymore if any policy in the system is changed but if the actions of all agents are given, then it will be a MDP again.\n",
    "\n",
    "Initialize critic networks $Q(s,a|\\theta^{Q})$ and actor $\\mu(s|\\theta^{\\mu})$ with weights $\\theta^Q$ and $\\theta^{\\mu}$ \n",
    "<br>\n",
    "Initialize target networks $Q'$ and $\\mu'$ with weigths $\\theta^{Q'} \\leftarrow \\theta^Q $ and $\\theta^{\\mu'} \\leftarrow theta^{\\mu}$\n",
    "<br>\n",
    "Initialize replay buffer R\n",
    "<br>\n",
    " for episode = 1, M do\n",
    "> Initialize a random process $\\mathrm{N}$ for action exploration  \n",
    "> Receive initial observation state $s_0$\n",
    "<br>\n",
    "> for t = 1, T do\n",
    ">>for each agent i, select action $a_t = µ(s^t|\\theta^µ) + N_t$ according to the current policy and exploration noise <br>\n",
    ">>Execute action at and observe reward rt and observe new state $s_{t+1}$ <br>\n",
    ">>Store transition ($s_t$, $a_t$, $r_t$, $s_{t+1}$) in R <br>\n",
    ">>for agent i = 1 to N:<br>\n",
    ">>>Sample a random minibatch of N transitions ($s_i$, $a_i$, $r_i$, $s_{i+1}$) from R  <br>\n",
    ">>>Set $y_i = r_i + \\gamma Q'(s_{i+1}, \\mu'(s_{i+1}|\\theta^{µ'})|\\theta^{Q'})$ <br>\n",
    ">>>Update critic by minimizing the loss: $L = \\frac{1}{N} \\Sigma_i (y_i − Q(s_i , a_i |\\theta^Q))^2$ <br>\n",
    ">>>Update the actor policy using the sampled policy gradient:<br>\n",
    ">>>$$\\nabla_{\\theta^{\\mu}}J \\approx {1}/{S} \\Sigma_j \\nabla_{\\theta_i} Q(s,a| \\theta^Q)|_{s=s_j, a = \\mu(s_j)}  \\nabla_{\\theta^{\\mu}} \\mu (s|\\theta^\\mu)|_{s_j}$$<br>\n",
    ">> Update the target networks:\n",
    ">> $$ \\theta^{Q'} \\leftarrow \\tau \\theta^Q + (1-\\tau) \\theta^{Q'}$$\n",
    ">> $$ \\theta^{\\mu'} \\leftarrow \\tau \\mu^Q + (1-\\tau) \\theta^{\\mu'}$$\n",
    "\n",
    "#### 3. Hyper-parameters\n",
    "\n",
    "| Parameter Name      | Description           | Value  |\n",
    "| ------------- |:-------------:| -----:|\n",
    "| BUFFER_SIZE      | Size of the replay buffer | 5e4 |\n",
    "| BATCH_SIZE      | Mini-batch size      |   256 |\n",
    "| GAMMA ($\\gamma$) | Discount factor      |   0.99 |\n",
    "| TAU ($\\tau$) |  \t coefficient for soft update of target| 1e-3 |\n",
    "| LR_ACTOR|Actor learning rate | 1e-4 |\n",
    "| LR_CRITIC| Critic learning rate| 5e-4 |\n",
    "| WEIGHT_DECAY_ACTOR| L2 weight decay for ACTOR|0.0|\n",
    "| WEIGHT_DECAY_CRITIC| L2 weight decay for CRITIC|0.0|\n",
    "|OU_SIGMA|Ornstein-Uhlenbeck noise parameter, volatility|0.2 |\n",
    "|OU_THETA|Ornstein-Uhlenbeck noise parameter, speed of mean |0.15|\n",
    "|EPS_START|reversion initial value for epsilon in noise decay process in Agent.act() |5.0|\n",
    "|EPS_EP_END|episode to end the noise decay process|300|\n",
    "|EPS_FINAL|final value for epsilon after decay|0.0|\n",
    "\n",
    "#### 4. MADDPG layer settings\n",
    "Each Actor and Critic agents have 3 layers of weights and the size of the each layers are the same, from fine tuning attempts, the fastest number of nodes in hidden layers were `fc1_units=256, fc2_units=128`. These numbers are highly depends on the environments, the number of possible angles and position of the target. The larger nodes in a layer the higher capacity to learn but slower to converge. It is essential to find the optimal number of nodes which is capable of solving the environment with the fastest time. If training score oscilates, the number of nodes needs to be increased as there is not enough room to store learning. If it grows too slow, the number of nodes need to be reduced as it is hard to fill."
   ]
  },
  {
   "cell_type": "code",
   "execution_count": 6,
   "metadata": {},
   "outputs": [],
   "source": [
    "from collections import deque\n",
    "import time\n",
    "import torch\n",
    "\n",
    "def maddpg(n_episodes=2000, max_t=1000, print_every=10):\n",
    "    t0=time.time()\n",
    "    scores_deque = deque(maxlen=100)\n",
    "    scores = []\n",
    "    for i_episode in range(1, n_episodes+1):\n",
    "        env_info = env.reset(train_mode=True)[brain_name]\n",
    "        state = env_info.vector_observations\n",
    "        score = np.zeros(num_agents)\n",
    "        agents.reset() # noise reset only currently\n",
    "        for t in range(max_t):\n",
    "            action = agents.act(state)\n",
    "            env_info = env.step(action)[brain_name]\n",
    "            next_state = env_info.vector_observations\n",
    "            rewards = env_info.rewards\n",
    "            dones = env_info.local_done\n",
    "            score += rewards\n",
    "            agents.step(state, action, rewards, next_state, dones)\n",
    "            state = next_state\n",
    "            if np.any(dones):\n",
    "                break \n",
    "        score = np.max(score)\n",
    "        scores.append(score)\n",
    "        scores_deque.append(np.mean(score))\n",
    "        average_score = np.mean(scores_deque)\n",
    "\n",
    "        if i_episode > 0 and i_episode % print_every == 0:\n",
    "            print('\\rEpisode {}\\tAverage Score: {:.4f}'.format(i_episode, average_score))\n",
    "        if average_score > 0.5:\n",
    "            print(\"\\nProblem Solved!\")\n",
    "            break\n",
    "    t1=time.time()\n",
    "\n",
    "    print(\"\\nTotal time elapsed: {} seconds\".format(t1-t0))\n",
    "    torch.save(agents.agents[0].actor_local.state_dict(), 'tennis_checkpoint_actor_0.pth')\n",
    "    torch.save(agents.agents[0].critic_local.state_dict(), 'tennis_checkpoint_critic_0.pth') \n",
    "    torch.save(agents.agents[1].actor_local.state_dict(), 'tennis_checkpoint_actor_1.pth')\n",
    "    torch.save(agents.agents[1].critic_local.state_dict(), 'tennis_checkpoint_critic_1.pth')\n",
    "    \n",
    "    return scores\n"
   ]
  },
  {
   "cell_type": "code",
   "execution_count": 7,
   "metadata": {},
   "outputs": [],
   "source": [
    "from agent import MADDPG\n",
    "#initialisation of the model\n",
    "agents = MADDPG(state_size=state_size, action_size=action_size, num_agents=num_agents, random_seed=10)"
   ]
  },
  {
   "cell_type": "code",
   "execution_count": 8,
   "metadata": {},
   "outputs": [
    {
     "name": "stdout",
     "output_type": "stream",
     "text": "Episode 50\tAverage Score: 0.0020\nEpisode 100\tAverage Score: 0.0010\nEpisode 150\tAverage Score: 0.0000\nEpisode 200\tAverage Score: 0.0000\nEpisode 250\tAverage Score: 0.0000\nEpisode 300\tAverage Score: 0.0010\nEpisode 350\tAverage Score: 0.0083\nEpisode 400\tAverage Score: 0.0429\nEpisode 450\tAverage Score: 0.0484\nEpisode 500\tAverage Score: 0.0241\nEpisode 550\tAverage Score: 0.0183\nEpisode 600\tAverage Score: 0.0286\nEpisode 650\tAverage Score: 0.0414\nEpisode 700\tAverage Score: 0.0511\nEpisode 750\tAverage Score: 0.0783\nEpisode 800\tAverage Score: 0.1045\nEpisode 850\tAverage Score: 0.1285\nEpisode 900\tAverage Score: 0.1518\nEpisode 950\tAverage Score: 0.1957\nEpisode 1000\tAverage Score: 0.3049\n\nProblem Solved!\n\nTotal time elapsed: 1324.0073173046112 seconds\n"
    }
   ],
   "source": [
    "n_episodes = 10000\n",
    "print_every = 50\n",
    "\n",
    "#training for n_episodes\n",
    "score = maddpg(n_episodes=n_episodes, print_every=print_every)"
   ]
  },
  {
   "cell_type": "markdown",
   "execution_count": null,
   "metadata": {},
   "outputs": [],
   "source": [
    "### 5. Results\n",
    "\n",
    "#### 1. Discussion on the result plot\n",
    "The picture below shows how the Multi Agent Deep Deterministic Policy Gradients (MADDPG) was trained with between 1000 to 1050 episodes, around 1030 episodes\n",
    "The learning algorithms were not finding the policies to score positively early training session. Once agents knows which actions in specific states yields higher rewards, it starts to converge to the policies rather exponentially.\n",
    "The stable learning after the score of 0.25 shows that the chosen set of hyper parameters are adequate for this environment. However, this stability can be increased by using priortised experience replay or Generalized Advantage Estimation.\n",
    "OUN noise played an important role in exploration in early training stages, from 0 to 6 episodes. The effect of exploration were recorded as oscilation of score during the stage. After enough exploration, the agents could learn the envionment exponentially.\n",
    "\n",
    "### 6. Future Work\n",
    "\n",
    "This DDPG can be augmented with:\n",
    "- GAE (Generalized Advantage Estimation) : more generalised Advantage estimation\n",
    "- PER (Priority Experience Replay) : more efficient use of Replay buffer, I have tried it in the other branch. not optimised yet.\n",
    "\n",
    "Other architectural methods can be applied to solve the environment:\n",
    "- PPO (Proximal Policy Optimisation)\n",
    "- A3C."
   ]
  },
  {
   "cell_type": "code",
   "execution_count": 9,
   "metadata": {},
   "outputs": [
    {
     "data": {
      "image/png": "[encoded data removed]",
      "image/svg+xml": "<?xml version=\"1.0\" encoding=\"utf-8\" standalone=\"no\"?>\n<!DOCTYPE svg PUBLIC \"-//W3C//DTD SVG 1.1//EN\"\n  \"http://www.w3.org/Graphics/SVG/1.1/DTD/svg11.dtd\">\n<!-- Created with matplotlib (https://matplotlib.org/) -->\n<svg height=\"262.19625pt\" version=\"1.1\" viewBox=\"0 0 385.78125 262.19625\" width=\"385.78125pt\" xmlns=\"http://www.w3.org/2000/svg\" xmlns:xlink=\"http://www.w3.org/1999/xlink\">\n <defs>\n  <style type=\"text/css\">\n*{stroke-linecap:butt;stroke-linejoin:round;}\n  </style>\n </defs>\n <g id=\"figure_1\">\n  <g id=\"patch_1\">\n   <path d=\"M 0 262.19625 \nL 385.78125 262.19625 \nL 385.78125 0 \nL 0 0 \nz\n\" style=\"fill:none;\"/>\n  </g>\n  <g id=\"axes_1\">\n   <g id=\"patch_2\">\n    <path d=\"M 43.78125 224.64 \nL 378.58125 224.64 \nL 378.58125 7.2 \nL 43.78125 7.2 \nz\n\" style=\"fill:#ffffff;\"/>\n   </g>\n   <g id=\"matplotlib.axis_1\">\n    <g id=\"xtick_1\">\n     <g id=\"line2d_1\">\n      <defs>\n       <path d=\"M 0 0 \nL 0 3.5 \n\" id=\"m72e7bce459\" style=\"stroke:#000000;stroke-width:0.8;\"/>\n      </defs>\n      <g>\n       <use style=\"stroke:#000000;stroke-width:0.8;\" x=\"58.703358\" xlink:href=\"#m72e7bce459\" y=\"224.64\"/>\n      </g>\n     </g>\n     <g id=\"text_1\">\n      <!-- 0 -->\n      <defs>\n       <path d=\"M 31.78125 66.40625 \nQ 24.171875 66.40625 20.328125 58.90625 \nQ 16.5 51.421875 16.5 36.375 \nQ 16.5 21.390625 20.328125 13.890625 \nQ 24.171875 6.390625 31.78125 6.390625 \nQ 39.453125 6.390625 43.28125 13.890625 \nQ 47.125 21.390625 47.125 36.375 \nQ 47.125 51.421875 43.28125 58.90625 \nQ 39.453125 66.40625 31.78125 66.40625 \nz\nM 31.78125 74.21875 \nQ 44.046875 74.21875 50.515625 64.515625 \nQ 56.984375 54.828125 56.984375 36.375 \nQ 56.984375 17.96875 50.515625 8.265625 \nQ 44.046875 -1.421875 31.78125 -1.421875 \nQ 19.53125 -1.421875 13.0625 8.265625 \nQ 6.59375 17.96875 6.59375 36.375 \nQ 6.59375 54.828125 13.0625 64.515625 \nQ 19.53125 74.21875 31.78125 74.21875 \nz\n\" id=\"DejaVuSans-48\"/>\n      </defs>\n      <g transform=\"translate(55.522108 239.238437)scale(0.1 -0.1)\">\n       <use xlink:href=\"#DejaVuSans-48\"/>\n      </g>\n     </g>\n    </g>\n    <g id=\"xtick_2\">\n     <g id=\"line2d_2\">\n      <g>\n       <use style=\"stroke:#000000;stroke-width:0.8;\" x=\"117.918073\" xlink:href=\"#m72e7bce459\" y=\"224.64\"/>\n      </g>\n     </g>\n     <g id=\"text_2\">\n      <!-- 200 -->\n      <defs>\n       <path d=\"M 19.1875 8.296875 \nL 53.609375 8.296875 \nL 53.609375 0 \nL 7.328125 0 \nL 7.328125 8.296875 \nQ 12.9375 14.109375 22.625 23.890625 \nQ 32.328125 33.6875 34.8125 36.53125 \nQ 39.546875 41.84375 41.421875 45.53125 \nQ 43.3125 49.21875 43.3125 52.78125 \nQ 43.3125 58.59375 39.234375 62.25 \nQ 35.15625 65.921875 28.609375 65.921875 \nQ 23.96875 65.921875 18.8125 64.3125 \nQ 13.671875 62.703125 7.8125 59.421875 \nL 7.8125 69.390625 \nQ 13.765625 71.78125 18.9375 73 \nQ 24.125 74.21875 28.421875 74.21875 \nQ 39.75 74.21875 46.484375 68.546875 \nQ 53.21875 62.890625 53.21875 53.421875 \nQ 53.21875 48.921875 51.53125 44.890625 \nQ 49.859375 40.875 45.40625 35.40625 \nQ 44.1875 33.984375 37.640625 27.21875 \nQ 31.109375 20.453125 19.1875 8.296875 \nz\n\" id=\"DejaVuSans-50\"/>\n      </defs>\n      <g transform=\"translate(108.374323 239.238437)scale(0.1 -0.1)\">\n       <use xlink:href=\"#DejaVuSans-50\"/>\n       <use x=\"63.623047\" xlink:href=\"#DejaVuSans-48\"/>\n       <use x=\"127.246094\" xlink:href=\"#DejaVuSans-48\"/>\n      </g>\n     </g>\n    </g>\n    <g id=\"xtick_3\">\n     <g id=\"line2d_3\">\n      <g>\n       <use style=\"stroke:#000000;stroke-width:0.8;\" x=\"177.132789\" xlink:href=\"#m72e7bce459\" y=\"224.64\"/>\n      </g>\n     </g>\n     <g id=\"text_3\">\n      <!-- 400 -->\n      <defs>\n       <path d=\"M 37.796875 64.3125 \nL 12.890625 25.390625 \nL 37.796875 25.390625 \nz\nM 35.203125 72.90625 \nL 47.609375 72.90625 \nL 47.609375 25.390625 \nL 58.015625 25.390625 \nL 58.015625 17.1875 \nL 47.609375 17.1875 \nL 47.609375 0 \nL 37.796875 0 \nL 37.796875 17.1875 \nL 4.890625 17.1875 \nL 4.890625 26.703125 \nz\n\" id=\"DejaVuSans-52\"/>\n      </defs>\n      <g transform=\"translate(167.589039 239.238437)scale(0.1 -0.1)\">\n       <use xlink:href=\"#DejaVuSans-52\"/>\n       <use x=\"63.623047\" xlink:href=\"#DejaVuSans-48\"/>\n       <use x=\"127.246094\" xlink:href=\"#DejaVuSans-48\"/>\n      </g>\n     </g>\n    </g>\n    <g id=\"xtick_4\">\n     <g id=\"line2d_4\">\n      <g>\n       <use style=\"stroke:#000000;stroke-width:0.8;\" x=\"236.347504\" xlink:href=\"#m72e7bce459\" y=\"224.64\"/>\n      </g>\n     </g>\n     <g id=\"text_4\">\n      <!-- 600 -->\n      <defs>\n       <path d=\"M 33.015625 40.375 \nQ 26.375 40.375 22.484375 35.828125 \nQ 18.609375 31.296875 18.609375 23.390625 \nQ 18.609375 15.53125 22.484375 10.953125 \nQ 26.375 6.390625 33.015625 6.390625 \nQ 39.65625 6.390625 43.53125 10.953125 \nQ 47.40625 15.53125 47.40625 23.390625 \nQ 47.40625 31.296875 43.53125 35.828125 \nQ 39.65625 40.375 33.015625 40.375 \nz\nM 52.59375 71.296875 \nL 52.59375 62.3125 \nQ 48.875 64.0625 45.09375 64.984375 \nQ 41.3125 65.921875 37.59375 65.921875 \nQ 27.828125 65.921875 22.671875 59.328125 \nQ 17.53125 52.734375 16.796875 39.40625 \nQ 19.671875 43.65625 24.015625 45.921875 \nQ 28.375 48.1875 33.59375 48.1875 \nQ 44.578125 48.1875 50.953125 41.515625 \nQ 57.328125 34.859375 57.328125 23.390625 \nQ 57.328125 12.15625 50.6875 5.359375 \nQ 44.046875 -1.421875 33.015625 -1.421875 \nQ 20.359375 -1.421875 13.671875 8.265625 \nQ 6.984375 17.96875 6.984375 36.375 \nQ 6.984375 53.65625 15.1875 63.9375 \nQ 23.390625 74.21875 37.203125 74.21875 \nQ 40.921875 74.21875 44.703125 73.484375 \nQ 48.484375 72.75 52.59375 71.296875 \nz\n\" id=\"DejaVuSans-54\"/>\n      </defs>\n      <g transform=\"translate(226.803754 239.238437)scale(0.1 -0.1)\">\n       <use xlink:href=\"#DejaVuSans-54\"/>\n       <use x=\"63.623047\" xlink:href=\"#DejaVuSans-48\"/>\n       <use x=\"127.246094\" xlink:href=\"#DejaVuSans-48\"/>\n      </g>\n     </g>\n    </g>\n    <g id=\"xtick_5\">\n     <g id=\"line2d_5\">\n      <g>\n       <use style=\"stroke:#000000;stroke-width:0.8;\" x=\"295.562219\" xlink:href=\"#m72e7bce459\" y=\"224.64\"/>\n      </g>\n     </g>\n     <g id=\"text_5\">\n      <!-- 800 -->\n      <defs>\n       <path d=\"M 31.78125 34.625 \nQ 24.75 34.625 20.71875 30.859375 \nQ 16.703125 27.09375 16.703125 20.515625 \nQ 16.703125 13.921875 20.71875 10.15625 \nQ 24.75 6.390625 31.78125 6.390625 \nQ 38.8125 6.390625 42.859375 10.171875 \nQ 46.921875 13.96875 46.921875 20.515625 \nQ 46.921875 27.09375 42.890625 30.859375 \nQ 38.875 34.625 31.78125 34.625 \nz\nM 21.921875 38.8125 \nQ 15.578125 40.375 12.03125 44.71875 \nQ 8.5 49.078125 8.5 55.328125 \nQ 8.5 64.0625 14.71875 69.140625 \nQ 20.953125 74.21875 31.78125 74.21875 \nQ 42.671875 74.21875 48.875 69.140625 \nQ 55.078125 64.0625 55.078125 55.328125 \nQ 55.078125 49.078125 51.53125 44.71875 \nQ 48 40.375 41.703125 38.8125 \nQ 48.828125 37.15625 52.796875 32.3125 \nQ 56.78125 27.484375 56.78125 20.515625 \nQ 56.78125 9.90625 50.3125 4.234375 \nQ 43.84375 -1.421875 31.78125 -1.421875 \nQ 19.734375 -1.421875 13.25 4.234375 \nQ 6.78125 9.90625 6.78125 20.515625 \nQ 6.78125 27.484375 10.78125 32.3125 \nQ 14.796875 37.15625 21.921875 38.8125 \nz\nM 18.3125 54.390625 \nQ 18.3125 48.734375 21.84375 45.5625 \nQ 25.390625 42.390625 31.78125 42.390625 \nQ 38.140625 42.390625 41.71875 45.5625 \nQ 45.3125 48.734375 45.3125 54.390625 \nQ 45.3125 60.0625 41.71875 63.234375 \nQ 38.140625 66.40625 31.78125 66.40625 \nQ 25.390625 66.40625 21.84375 63.234375 \nQ 18.3125 60.0625 18.3125 54.390625 \nz\n\" id=\"DejaVuSans-56\"/>\n      </defs>\n      <g transform=\"translate(286.018469 239.238437)scale(0.1 -0.1)\">\n       <use xlink:href=\"#DejaVuSans-56\"/>\n       <use x=\"63.623047\" xlink:href=\"#DejaVuSans-48\"/>\n       <use x=\"127.246094\" xlink:href=\"#DejaVuSans-48\"/>\n      </g>\n     </g>\n    </g>\n    <g id=\"xtick_6\">\n     <g id=\"line2d_6\">\n      <g>\n       <use style=\"stroke:#000000;stroke-width:0.8;\" x=\"354.776934\" xlink:href=\"#m72e7bce459\" y=\"224.64\"/>\n      </g>\n     </g>\n     <g id=\"text_6\">\n      <!-- 1000 -->\n      <defs>\n       <path d=\"M 12.40625 8.296875 \nL 28.515625 8.296875 \nL 28.515625 63.921875 \nL 10.984375 60.40625 \nL 10.984375 69.390625 \nL 28.421875 72.90625 \nL 38.28125 72.90625 \nL 38.28125 8.296875 \nL 54.390625 8.296875 \nL 54.390625 0 \nL 12.40625 0 \nz\n\" id=\"DejaVuSans-49\"/>\n      </defs>\n      <g transform=\"translate(342.051934 239.238437)scale(0.1 -0.1)\">\n       <use xlink:href=\"#DejaVuSans-49\"/>\n       <use x=\"63.623047\" xlink:href=\"#DejaVuSans-48\"/>\n       <use x=\"127.246094\" xlink:href=\"#DejaVuSans-48\"/>\n       <use x=\"190.869141\" xlink:href=\"#DejaVuSans-48\"/>\n      </g>\n     </g>\n    </g>\n    <g id=\"text_7\">\n     <!-- Episode # -->\n     <defs>\n      <path d=\"M 9.8125 72.90625 \nL 55.90625 72.90625 \nL 55.90625 64.59375 \nL 19.671875 64.59375 \nL 19.671875 43.015625 \nL 54.390625 43.015625 \nL 54.390625 34.71875 \nL 19.671875 34.71875 \nL 19.671875 8.296875 \nL 56.78125 8.296875 \nL 56.78125 0 \nL 9.8125 0 \nz\n\" id=\"DejaVuSans-69\"/>\n      <path d=\"M 18.109375 8.203125 \nL 18.109375 -20.796875 \nL 9.078125 -20.796875 \nL 9.078125 54.6875 \nL 18.109375 54.6875 \nL 18.109375 46.390625 \nQ 20.953125 51.265625 25.265625 53.625 \nQ 29.59375 56 35.59375 56 \nQ 45.5625 56 51.78125 48.09375 \nQ 58.015625 40.1875 58.015625 27.296875 \nQ 58.015625 14.40625 51.78125 6.484375 \nQ 45.5625 -1.421875 35.59375 -1.421875 \nQ 29.59375 -1.421875 25.265625 0.953125 \nQ 20.953125 3.328125 18.109375 8.203125 \nz\nM 48.6875 27.296875 \nQ 48.6875 37.203125 44.609375 42.84375 \nQ 40.53125 48.484375 33.40625 48.484375 \nQ 26.265625 48.484375 22.1875 42.84375 \nQ 18.109375 37.203125 18.109375 27.296875 \nQ 18.109375 17.390625 22.1875 11.75 \nQ 26.265625 6.109375 33.40625 6.109375 \nQ 40.53125 6.109375 44.609375 11.75 \nQ 48.6875 17.390625 48.6875 27.296875 \nz\n\" id=\"DejaVuSans-112\"/>\n      <path d=\"M 9.421875 54.6875 \nL 18.40625 54.6875 \nL 18.40625 0 \nL 9.421875 0 \nz\nM 9.421875 75.984375 \nL 18.40625 75.984375 \nL 18.40625 64.59375 \nL 9.421875 64.59375 \nz\n\" id=\"DejaVuSans-105\"/>\n      <path d=\"M 44.28125 53.078125 \nL 44.28125 44.578125 \nQ 40.484375 46.53125 36.375 47.5 \nQ 32.28125 48.484375 27.875 48.484375 \nQ 21.1875 48.484375 17.84375 46.4375 \nQ 14.5 44.390625 14.5 40.28125 \nQ 14.5 37.15625 16.890625 35.375 \nQ 19.28125 33.59375 26.515625 31.984375 \nL 29.59375 31.296875 \nQ 39.15625 29.25 43.1875 25.515625 \nQ 47.21875 21.78125 47.21875 15.09375 \nQ 47.21875 7.46875 41.1875 3.015625 \nQ 35.15625 -1.421875 24.609375 -1.421875 \nQ 20.21875 -1.421875 15.453125 -0.5625 \nQ 10.6875 0.296875 5.421875 2 \nL 5.421875 11.28125 \nQ 10.40625 8.6875 15.234375 7.390625 \nQ 20.0625 6.109375 24.8125 6.109375 \nQ 31.15625 6.109375 34.5625 8.28125 \nQ 37.984375 10.453125 37.984375 14.40625 \nQ 37.984375 18.0625 35.515625 20.015625 \nQ 33.0625 21.96875 24.703125 23.78125 \nL 21.578125 24.515625 \nQ 13.234375 26.265625 9.515625 29.90625 \nQ 5.8125 33.546875 5.8125 39.890625 \nQ 5.8125 47.609375 11.28125 51.796875 \nQ 16.75 56 26.8125 56 \nQ 31.78125 56 36.171875 55.265625 \nQ 40.578125 54.546875 44.28125 53.078125 \nz\n\" id=\"DejaVuSans-115\"/>\n      <path d=\"M 30.609375 48.390625 \nQ 23.390625 48.390625 19.1875 42.75 \nQ 14.984375 37.109375 14.984375 27.296875 \nQ 14.984375 17.484375 19.15625 11.84375 \nQ 23.34375 6.203125 30.609375 6.203125 \nQ 37.796875 6.203125 41.984375 11.859375 \nQ 46.1875 17.53125 46.1875 27.296875 \nQ 46.1875 37.015625 41.984375 42.703125 \nQ 37.796875 48.390625 30.609375 48.390625 \nz\nM 30.609375 56 \nQ 42.328125 56 49.015625 48.375 \nQ 55.71875 40.765625 55.71875 27.296875 \nQ 55.71875 13.875 49.015625 6.21875 \nQ 42.328125 -1.421875 30.609375 -1.421875 \nQ 18.84375 -1.421875 12.171875 6.21875 \nQ 5.515625 13.875 5.515625 27.296875 \nQ 5.515625 40.765625 12.171875 48.375 \nQ 18.84375 56 30.609375 56 \nz\n\" id=\"DejaVuSans-111\"/>\n      <path d=\"M 45.40625 46.390625 \nL 45.40625 75.984375 \nL 54.390625 75.984375 \nL 54.390625 0 \nL 45.40625 0 \nL 45.40625 8.203125 \nQ 42.578125 3.328125 38.25 0.953125 \nQ 33.9375 -1.421875 27.875 -1.421875 \nQ 17.96875 -1.421875 11.734375 6.484375 \nQ 5.515625 14.40625 5.515625 27.296875 \nQ 5.515625 40.1875 11.734375 48.09375 \nQ 17.96875 56 27.875 56 \nQ 33.9375 56 38.25 53.625 \nQ 42.578125 51.265625 45.40625 46.390625 \nz\nM 14.796875 27.296875 \nQ 14.796875 17.390625 18.875 11.75 \nQ 22.953125 6.109375 30.078125 6.109375 \nQ 37.203125 6.109375 41.296875 11.75 \nQ 45.40625 17.390625 45.40625 27.296875 \nQ 45.40625 37.203125 41.296875 42.84375 \nQ 37.203125 48.484375 30.078125 48.484375 \nQ 22.953125 48.484375 18.875 42.84375 \nQ 14.796875 37.203125 14.796875 27.296875 \nz\n\" id=\"DejaVuSans-100\"/>\n      <path d=\"M 56.203125 29.59375 \nL 56.203125 25.203125 \nL 14.890625 25.203125 \nQ 15.484375 15.921875 20.484375 11.0625 \nQ 25.484375 6.203125 34.421875 6.203125 \nQ 39.59375 6.203125 44.453125 7.46875 \nQ 49.3125 8.734375 54.109375 11.28125 \nL 54.109375 2.78125 \nQ 49.265625 0.734375 44.1875 -0.34375 \nQ 39.109375 -1.421875 33.890625 -1.421875 \nQ 20.796875 -1.421875 13.15625 6.1875 \nQ 5.515625 13.8125 5.515625 26.8125 \nQ 5.515625 40.234375 12.765625 48.109375 \nQ 20.015625 56 32.328125 56 \nQ 43.359375 56 49.78125 48.890625 \nQ 56.203125 41.796875 56.203125 29.59375 \nz\nM 47.21875 32.234375 \nQ 47.125 39.59375 43.09375 43.984375 \nQ 39.0625 48.390625 32.421875 48.390625 \nQ 24.90625 48.390625 20.390625 44.140625 \nQ 15.875 39.890625 15.1875 32.171875 \nz\n\" id=\"DejaVuSans-101\"/>\n      <path id=\"DejaVuSans-32\"/>\n      <path d=\"M 51.125 44 \nL 36.921875 44 \nL 32.8125 27.6875 \nL 47.125 27.6875 \nz\nM 43.796875 71.78125 \nL 38.71875 51.515625 \nL 52.984375 51.515625 \nL 58.109375 71.78125 \nL 65.921875 71.78125 \nL 60.890625 51.515625 \nL 76.125 51.515625 \nL 76.125 44 \nL 58.984375 44 \nL 54.984375 27.6875 \nL 70.515625 27.6875 \nL 70.515625 20.21875 \nL 53.078125 20.21875 \nL 48 0 \nL 40.1875 0 \nL 45.21875 20.21875 \nL 30.90625 20.21875 \nL 25.875 0 \nL 18.015625 0 \nL 23.09375 20.21875 \nL 7.71875 20.21875 \nL 7.71875 27.6875 \nL 24.90625 27.6875 \nL 29 44 \nL 13.28125 44 \nL 13.28125 51.515625 \nL 30.90625 51.515625 \nL 35.890625 71.78125 \nz\n\" id=\"DejaVuSans-35\"/>\n     </defs>\n     <g transform=\"translate(185.764844 252.916562)scale(0.1 -0.1)\">\n      <use xlink:href=\"#DejaVuSans-69\"/>\n      <use x=\"63.183594\" xlink:href=\"#DejaVuSans-112\"/>\n      <use x=\"126.660156\" xlink:href=\"#DejaVuSans-105\"/>\n      <use x=\"154.443359\" xlink:href=\"#DejaVuSans-115\"/>\n      <use x=\"206.542969\" xlink:href=\"#DejaVuSans-111\"/>\n      <use x=\"267.724609\" xlink:href=\"#DejaVuSans-100\"/>\n      <use x=\"331.201172\" xlink:href=\"#DejaVuSans-101\"/>\n      <use x=\"392.724609\" xlink:href=\"#DejaVuSans-32\"/>\n      <use x=\"424.511719\" xlink:href=\"#DejaVuSans-35\"/>\n     </g>\n    </g>\n   </g>\n   <g id=\"matplotlib.axis_2\">\n    <g id=\"ytick_1\">\n     <g id=\"line2d_7\">\n      <defs>\n       <path d=\"M 0 0 \nL -3.5 0 \n\" id=\"md59548b050\" style=\"stroke:#000000;stroke-width:0.8;\"/>\n      </defs>\n      <g>\n       <use style=\"stroke:#000000;stroke-width:0.8;\" x=\"43.78125\" xlink:href=\"#md59548b050\" y=\"214.756364\"/>\n      </g>\n     </g>\n     <g id=\"text_8\">\n      <!-- 0.0 -->\n      <defs>\n       <path d=\"M 10.6875 12.40625 \nL 21 12.40625 \nL 21 0 \nL 10.6875 0 \nz\n\" id=\"DejaVuSans-46\"/>\n      </defs>\n      <g transform=\"translate(20.878125 218.555582)scale(0.1 -0.1)\">\n       <use xlink:href=\"#DejaVuSans-48\"/>\n       <use x=\"63.623047\" xlink:href=\"#DejaVuSans-46\"/>\n       <use x=\"95.410156\" xlink:href=\"#DejaVuSans-48\"/>\n      </g>\n     </g>\n    </g>\n    <g id=\"ytick_2\">\n     <g id=\"line2d_8\">\n      <g>\n       <use style=\"stroke:#000000;stroke-width:0.8;\" x=\"43.78125\" xlink:href=\"#md59548b050\" y=\"176.742378\"/>\n      </g>\n     </g>\n     <g id=\"text_9\">\n      <!-- 0.5 -->\n      <defs>\n       <path d=\"M 10.796875 72.90625 \nL 49.515625 72.90625 \nL 49.515625 64.59375 \nL 19.828125 64.59375 \nL 19.828125 46.734375 \nQ 21.96875 47.46875 24.109375 47.828125 \nQ 26.265625 48.1875 28.421875 48.1875 \nQ 40.625 48.1875 47.75 41.5 \nQ 54.890625 34.8125 54.890625 23.390625 \nQ 54.890625 11.625 47.5625 5.09375 \nQ 40.234375 -1.421875 26.90625 -1.421875 \nQ 22.3125 -1.421875 17.546875 -0.640625 \nQ 12.796875 0.140625 7.71875 1.703125 \nL 7.71875 11.625 \nQ 12.109375 9.234375 16.796875 8.0625 \nQ 21.484375 6.890625 26.703125 6.890625 \nQ 35.15625 6.890625 40.078125 11.328125 \nQ 45.015625 15.765625 45.015625 23.390625 \nQ 45.015625 31 40.078125 35.4375 \nQ 35.15625 39.890625 26.703125 39.890625 \nQ 22.75 39.890625 18.8125 39.015625 \nQ 14.890625 38.140625 10.796875 36.28125 \nz\n\" id=\"DejaVuSans-53\"/>\n      </defs>\n      <g transform=\"translate(20.878125 180.541597)scale(0.1 -0.1)\">\n       <use xlink:href=\"#DejaVuSans-48\"/>\n       <use x=\"63.623047\" xlink:href=\"#DejaVuSans-46\"/>\n       <use x=\"95.410156\" xlink:href=\"#DejaVuSans-53\"/>\n      </g>\n     </g>\n    </g>\n    <g id=\"ytick_3\">\n     <g id=\"line2d_9\">\n      <g>\n       <use style=\"stroke:#000000;stroke-width:0.8;\" x=\"43.78125\" xlink:href=\"#md59548b050\" y=\"138.728393\"/>\n      </g>\n     </g>\n     <g id=\"text_10\">\n      <!-- 1.0 -->\n      <g transform=\"translate(20.878125 142.527611)scale(0.1 -0.1)\">\n       <use xlink:href=\"#DejaVuSans-49\"/>\n       <use x=\"63.623047\" xlink:href=\"#DejaVuSans-46\"/>\n       <use x=\"95.410156\" xlink:href=\"#DejaVuSans-48\"/>\n      </g>\n     </g>\n    </g>\n    <g id=\"ytick_4\">\n     <g id=\"line2d_10\">\n      <g>\n       <use style=\"stroke:#000000;stroke-width:0.8;\" x=\"43.78125\" xlink:href=\"#md59548b050\" y=\"100.714407\"/>\n      </g>\n     </g>\n     <g id=\"text_11\">\n      <!-- 1.5 -->\n      <g transform=\"translate(20.878125 104.513626)scale(0.1 -0.1)\">\n       <use xlink:href=\"#DejaVuSans-49\"/>\n       <use x=\"63.623047\" xlink:href=\"#DejaVuSans-46\"/>\n       <use x=\"95.410156\" xlink:href=\"#DejaVuSans-53\"/>\n      </g>\n     </g>\n    </g>\n    <g id=\"ytick_5\">\n     <g id=\"line2d_11\">\n      <g>\n       <use style=\"stroke:#000000;stroke-width:0.8;\" x=\"43.78125\" xlink:href=\"#md59548b050\" y=\"62.700422\"/>\n      </g>\n     </g>\n     <g id=\"text_12\">\n      <!-- 2.0 -->\n      <g transform=\"translate(20.878125 66.499641)scale(0.1 -0.1)\">\n       <use xlink:href=\"#DejaVuSans-50\"/>\n       <use x=\"63.623047\" xlink:href=\"#DejaVuSans-46\"/>\n       <use x=\"95.410156\" xlink:href=\"#DejaVuSans-48\"/>\n      </g>\n     </g>\n    </g>\n    <g id=\"ytick_6\">\n     <g id=\"line2d_12\">\n      <g>\n       <use style=\"stroke:#000000;stroke-width:0.8;\" x=\"43.78125\" xlink:href=\"#md59548b050\" y=\"24.686436\"/>\n      </g>\n     </g>\n     <g id=\"text_13\">\n      <!-- 2.5 -->\n      <g transform=\"translate(20.878125 28.485655)scale(0.1 -0.1)\">\n       <use xlink:href=\"#DejaVuSans-50\"/>\n       <use x=\"63.623047\" xlink:href=\"#DejaVuSans-46\"/>\n       <use x=\"95.410156\" xlink:href=\"#DejaVuSans-53\"/>\n      </g>\n     </g>\n    </g>\n    <g id=\"text_14\">\n     <!-- Score -->\n     <defs>\n      <path d=\"M 53.515625 70.515625 \nL 53.515625 60.890625 \nQ 47.90625 63.578125 42.921875 64.890625 \nQ 37.9375 66.21875 33.296875 66.21875 \nQ 25.25 66.21875 20.875 63.09375 \nQ 16.5 59.96875 16.5 54.203125 \nQ 16.5 49.359375 19.40625 46.890625 \nQ 22.3125 44.4375 30.421875 42.921875 \nL 36.375 41.703125 \nQ 47.40625 39.59375 52.65625 34.296875 \nQ 57.90625 29 57.90625 20.125 \nQ 57.90625 9.515625 50.796875 4.046875 \nQ 43.703125 -1.421875 29.984375 -1.421875 \nQ 24.8125 -1.421875 18.96875 -0.25 \nQ 13.140625 0.921875 6.890625 3.21875 \nL 6.890625 13.375 \nQ 12.890625 10.015625 18.65625 8.296875 \nQ 24.421875 6.59375 29.984375 6.59375 \nQ 38.421875 6.59375 43.015625 9.90625 \nQ 47.609375 13.234375 47.609375 19.390625 \nQ 47.609375 24.75 44.3125 27.78125 \nQ 41.015625 30.8125 33.5 32.328125 \nL 27.484375 33.5 \nQ 16.453125 35.6875 11.515625 40.375 \nQ 6.59375 45.0625 6.59375 53.421875 \nQ 6.59375 63.09375 13.40625 68.65625 \nQ 20.21875 74.21875 32.171875 74.21875 \nQ 37.3125 74.21875 42.625 73.28125 \nQ 47.953125 72.359375 53.515625 70.515625 \nz\n\" id=\"DejaVuSans-83\"/>\n      <path d=\"M 48.78125 52.59375 \nL 48.78125 44.1875 \nQ 44.96875 46.296875 41.140625 47.34375 \nQ 37.3125 48.390625 33.40625 48.390625 \nQ 24.65625 48.390625 19.8125 42.84375 \nQ 14.984375 37.3125 14.984375 27.296875 \nQ 14.984375 17.28125 19.8125 11.734375 \nQ 24.65625 6.203125 33.40625 6.203125 \nQ 37.3125 6.203125 41.140625 7.25 \nQ 44.96875 8.296875 48.78125 10.40625 \nL 48.78125 2.09375 \nQ 45.015625 0.34375 40.984375 -0.53125 \nQ 36.96875 -1.421875 32.421875 -1.421875 \nQ 20.0625 -1.421875 12.78125 6.34375 \nQ 5.515625 14.109375 5.515625 27.296875 \nQ 5.515625 40.671875 12.859375 48.328125 \nQ 20.21875 56 33.015625 56 \nQ 37.15625 56 41.109375 55.140625 \nQ 45.0625 54.296875 48.78125 52.59375 \nz\n\" id=\"DejaVuSans-99\"/>\n      <path d=\"M 41.109375 46.296875 \nQ 39.59375 47.171875 37.8125 47.578125 \nQ 36.03125 48 33.890625 48 \nQ 26.265625 48 22.1875 43.046875 \nQ 18.109375 38.09375 18.109375 28.8125 \nL 18.109375 0 \nL 9.078125 0 \nL 9.078125 54.6875 \nL 18.109375 54.6875 \nL 18.109375 46.1875 \nQ 20.953125 51.171875 25.484375 53.578125 \nQ 30.03125 56 36.53125 56 \nQ 37.453125 56 38.578125 55.875 \nQ 39.703125 55.765625 41.0625 55.515625 \nz\n\" id=\"DejaVuSans-114\"/>\n     </defs>\n     <g transform=\"translate(14.798438 130.033281)rotate(-90)scale(0.1 -0.1)\">\n      <use xlink:href=\"#DejaVuSans-83\"/>\n      <use x=\"63.476562\" xlink:href=\"#DejaVuSans-99\"/>\n      <use x=\"118.457031\" xlink:href=\"#DejaVuSans-111\"/>\n      <use x=\"179.638672\" xlink:href=\"#DejaVuSans-114\"/>\n      <use x=\"220.720703\" xlink:href=\"#DejaVuSans-101\"/>\n     </g>\n    </g>\n   </g>\n   <g id=\"line2d_13\">\n    <path clip-path=\"url(#pc24934c1be)\" d=\"M 58.999432 214.756364 \nL 64.032683 214.756364 \nL 64.328756 207.153566 \nL 64.62483 214.756364 \nL 141.900033 214.756364 \nL 142.196107 207.153566 \nL 142.49218 214.756364 \nL 147.525431 214.756364 \nL 147.821505 207.913846 \nL 148.117578 214.756364 \nL 148.709725 214.756364 \nL 149.005799 207.913846 \nL 149.301873 207.913846 \nL 149.597946 214.756364 \nL 151.966535 214.756364 \nL 152.262608 207.913846 \nL 152.558682 214.756364 \nL 152.854755 207.913846 \nL 153.150829 214.756364 \nL 154.927271 214.756364 \nL 155.223344 207.913846 \nL 155.519418 214.756364 \nL 156.111565 214.756364 \nL 156.407638 207.913846 \nL 156.703712 214.756364 \nL 162.033036 214.756364 \nL 162.32911 207.153566 \nL 162.625183 214.756364 \nL 162.921257 214.756364 \nL 163.217331 207.153566 \nL 163.513404 214.756364 \nL 163.809478 207.153566 \nL 164.105551 207.153566 \nL 164.401625 214.756364 \nL 165.289846 214.756364 \nL 165.585919 207.913846 \nL 165.881993 207.153566 \nL 166.178066 207.153566 \nL 166.47414 214.756364 \nL 166.770214 207.153566 \nL 167.066287 214.756364 \nL 167.954508 214.756364 \nL 168.250581 207.153566 \nL 168.546655 207.913846 \nL 168.842729 199.550769 \nL 169.434876 214.756364 \nL 169.730949 176.742378 \nL 170.027023 199.550769 \nL 170.61917 214.756364 \nL 170.915244 214.756364 \nL 171.211317 207.153566 \nL 171.507391 214.756364 \nL 171.803464 207.153566 \nL 172.099538 184.345175 \nL 172.395612 207.153566 \nL 172.691685 214.756364 \nL 172.987759 199.550769 \nL 173.283832 214.756364 \nL 173.579906 207.153566 \nL 173.875979 214.756364 \nL 174.468127 214.756364 \nL 174.7642 207.153566 \nL 175.060274 207.153566 \nL 175.356347 214.756364 \nL 175.948494 214.756364 \nL 176.244568 199.550769 \nL 176.540642 214.756364 \nL 176.836715 207.153566 \nL 177.132789 207.913846 \nL 177.428862 214.756364 \nL 178.90923 214.756364 \nL 179.205304 191.947972 \nL 179.501377 214.756364 \nL 180.389598 214.756364 \nL 180.685672 207.153566 \nL 180.981745 214.756364 \nL 182.16604 214.756364 \nL 182.462113 207.913846 \nL 182.758187 214.756364 \nL 183.05426 207.153566 \nL 183.350334 207.153566 \nL 183.646407 214.756364 \nL 183.942481 214.756364 \nL 184.238555 199.550769 \nL 184.534628 214.756364 \nL 184.830702 214.756364 \nL 185.126775 207.153566 \nL 185.422849 207.913846 \nL 185.718922 207.153566 \nL 186.014996 214.756364 \nL 188.679658 214.756364 \nL 188.975732 207.153566 \nL 189.271805 214.756364 \nL 192.528615 214.756364 \nL 192.824688 200.311049 \nL 193.120762 214.756364 \nL 193.416835 207.913846 \nL 193.712909 214.756364 \nL 194.305056 214.756364 \nL 194.60113 207.913846 \nL 194.897203 214.756364 \nL 195.193277 207.913846 \nL 195.48935 214.756364 \nL 195.785424 214.756364 \nL 196.081498 207.913846 \nL 196.377571 214.756364 \nL 198.154013 214.756364 \nL 198.450086 207.153566 \nL 198.74616 214.756364 \nL 200.226528 214.756364 \nL 200.522601 207.153566 \nL 200.818675 214.756364 \nL 201.114748 214.756364 \nL 201.410822 207.913846 \nL 201.706896 214.756364 \nL 202.002969 207.153566 \nL 202.299043 207.153566 \nL 202.595116 214.756364 \nL 206.444073 214.756364 \nL 206.740146 207.913846 \nL 207.03622 214.756364 \nL 210.589103 214.756364 \nL 210.885176 207.153566 \nL 211.18125 214.756364 \nL 211.773397 214.756364 \nL 212.069471 207.153566 \nL 212.365544 214.756364 \nL 212.661618 207.153566 \nL 212.957691 214.756364 \nL 215.030206 214.756364 \nL 215.32628 207.153566 \nL 215.622354 214.756364 \nL 215.918427 207.153566 \nL 216.214501 207.153566 \nL 216.510574 214.756364 \nL 220.655604 214.756364 \nL 220.951678 207.153566 \nL 221.247752 214.756364 \nL 221.543825 214.756364 \nL 221.839899 207.153566 \nL 222.432046 207.153566 \nL 222.728119 214.756364 \nL 223.912414 214.756364 \nL 224.208487 207.153566 \nL 224.504561 214.756364 \nL 224.800635 214.756364 \nL 225.096708 207.153566 \nL 225.392782 207.153566 \nL 225.688855 214.756364 \nL 226.281002 214.756364 \nL 226.577076 207.153566 \nL 226.87315 214.756364 \nL 227.76137 214.756364 \nL 228.057444 207.153566 \nL 228.353517 214.756364 \nL 228.649591 207.153566 \nL 228.945665 214.756364 \nL 229.833885 214.756364 \nL 230.129959 207.153566 \nL 230.426032 214.756364 \nL 230.722106 214.756364 \nL 231.01818 207.153566 \nL 231.314253 207.153566 \nL 231.610327 214.756364 \nL 231.9064 207.913846 \nL 232.202474 207.153566 \nL 232.498547 207.913846 \nL 232.794621 214.756364 \nL 233.090695 207.913846 \nL 233.386768 214.756364 \nL 233.978915 214.756364 \nL 234.274989 207.153566 \nL 234.571063 207.153566 \nL 234.867136 214.756364 \nL 235.16321 207.153566 \nL 235.459283 214.756364 \nL 235.755357 214.756364 \nL 236.05143 199.550769 \nL 236.643578 214.756364 \nL 236.939651 214.756364 \nL 237.235725 207.153566 \nL 237.531798 214.756364 \nL 238.123945 214.756364 \nL 238.420019 207.153566 \nL 238.716093 207.153566 \nL 239.012166 214.756364 \nL 239.30824 207.913846 \nL 239.604313 214.756364 \nL 239.900387 207.153566 \nL 240.19646 214.756364 \nL 240.492534 207.913846 \nL 240.788608 214.756364 \nL 241.084681 207.153566 \nL 241.380755 207.153566 \nL 241.676828 214.756364 \nL 241.972902 207.153566 \nL 242.268976 207.153566 \nL 242.565049 214.756364 \nL 242.861123 207.153566 \nL 243.157196 214.756364 \nL 243.749343 214.756364 \nL 244.045417 207.153566 \nL 244.341491 207.153566 \nL 244.637564 214.756364 \nL 245.229711 214.756364 \nL 245.525785 207.153566 \nL 246.117932 207.153566 \nL 246.414006 214.756364 \nL 247.894373 214.756364 \nL 248.190447 207.153566 \nL 248.486521 214.756364 \nL 249.374741 214.756364 \nL 249.670815 207.153566 \nL 249.966888 214.756364 \nL 250.262962 214.756364 \nL 250.559036 207.153566 \nL 250.855109 214.756364 \nL 251.151183 207.153566 \nL 251.447256 214.756364 \nL 251.74333 207.153566 \nL 252.039404 214.756364 \nL 252.335477 207.153566 \nL 252.631551 207.913846 \nL 252.927624 207.913846 \nL 253.223698 207.153566 \nL 253.519771 207.913846 \nL 253.815845 207.153566 \nL 254.111919 214.756364 \nL 254.407992 207.153566 \nL 255.296213 207.153566 \nL 255.592286 207.913846 \nL 255.88836 207.153566 \nL 257.072654 207.153566 \nL 257.368728 207.913846 \nL 257.664801 214.756364 \nL 257.960875 214.756364 \nL 258.256949 207.913846 \nL 258.553022 214.756364 \nL 259.145169 214.756364 \nL 259.441243 207.153566 \nL 259.737317 207.153566 \nL 260.03339 214.756364 \nL 260.329464 207.153566 \nL 260.625537 214.756364 \nL 260.921611 207.153566 \nL 261.513758 207.153566 \nL 261.809832 214.756364 \nL 262.105905 214.756364 \nL 262.401979 207.153566 \nL 262.698052 214.756364 \nL 263.290199 214.756364 \nL 263.586273 207.153566 \nL 263.882347 207.153566 \nL 264.17842 214.756364 \nL 264.474494 207.153566 \nL 264.770567 207.153566 \nL 265.066641 214.756364 \nL 265.362714 207.913846 \nL 265.658788 214.756364 \nL 265.954862 207.153566 \nL 266.250935 207.153566 \nL 266.547009 207.913846 \nL 266.843082 214.756364 \nL 267.139156 214.756364 \nL 267.435229 207.153566 \nL 267.731303 214.756364 \nL 268.32345 199.550769 \nL 268.619524 207.153566 \nL 269.803818 207.153566 \nL 270.099892 199.550769 \nL 270.395965 207.913846 \nL 270.692039 207.153566 \nL 270.988112 214.756364 \nL 271.284186 207.153566 \nL 271.58026 207.153566 \nL 271.876333 207.913846 \nL 272.172407 207.913846 \nL 272.46848 207.153566 \nL 272.764554 214.756364 \nL 273.060627 207.153566 \nL 273.652775 207.153566 \nL 273.948848 199.550769 \nL 274.244922 207.153566 \nL 274.540995 207.913846 \nL 274.837069 207.153566 \nL 275.133142 199.550769 \nL 275.72529 214.756364 \nL 276.021363 207.153566 \nL 276.317437 207.153566 \nL 276.61351 207.913846 \nL 276.909584 207.153566 \nL 277.205657 207.913846 \nL 277.501731 207.153566 \nL 277.797805 207.913846 \nL 278.093878 207.153566 \nL 279.87032 207.153566 \nL 280.166393 207.913846 \nL 280.462467 207.153566 \nL 280.75854 207.153566 \nL 281.054614 207.913846 \nL 282.238908 207.913846 \nL 282.534982 199.550769 \nL 282.831055 207.153566 \nL 283.719276 207.153566 \nL 284.01535 207.913846 \nL 284.311423 207.153566 \nL 284.607497 214.756364 \nL 285.199644 199.550769 \nL 285.495718 199.550769 \nL 285.791791 207.913846 \nL 286.087865 207.153566 \nL 286.383938 207.913846 \nL 286.680012 199.550769 \nL 286.976086 207.153566 \nL 287.272159 207.913846 \nL 287.568233 207.153566 \nL 287.864306 207.913846 \nL 288.16038 207.153566 \nL 289.048601 207.153566 \nL 289.344674 199.550769 \nL 289.640748 207.153566 \nL 289.936821 207.913846 \nL 290.232895 207.153566 \nL 290.528968 191.947972 \nL 290.825042 207.153566 \nL 291.417189 207.153566 \nL 291.713263 207.913846 \nL 292.009336 200.311049 \nL 292.30541 199.550769 \nL 292.601483 207.153566 \nL 292.897557 199.550769 \nL 293.193631 207.153566 \nL 293.489704 207.913846 \nL 293.785778 207.153566 \nL 294.081851 207.153566 \nL 294.377925 207.913846 \nL 294.673998 207.153566 \nL 295.858293 207.153566 \nL 296.154366 199.550769 \nL 296.45044 207.153566 \nL 296.746514 191.947972 \nL 297.042587 207.153566 \nL 297.338661 207.153566 \nL 297.634734 200.311049 \nL 297.930808 207.153566 \nL 298.226881 199.550769 \nL 298.522955 199.550769 \nL 298.819029 207.913846 \nL 299.115102 200.311049 \nL 299.411176 207.153566 \nL 299.707249 207.913846 \nL 300.003323 207.153566 \nL 300.891544 207.153566 \nL 301.187617 207.913846 \nL 301.483691 199.550769 \nL 301.779764 207.153566 \nL 302.075838 207.153566 \nL 302.371911 207.913846 \nL 302.667985 200.311049 \nL 302.964059 199.550769 \nL 303.260132 207.153566 \nL 303.556206 207.153566 \nL 303.852279 200.311049 \nL 304.148353 199.550769 \nL 304.444427 207.153566 \nL 304.7405 207.153566 \nL 305.036574 199.550769 \nL 305.332647 207.153566 \nL 306.516942 207.153566 \nL 306.813015 199.550769 \nL 307.109089 199.550769 \nL 307.405162 191.947972 \nL 307.701236 207.153566 \nL 307.997309 199.550769 \nL 308.293383 207.153566 \nL 308.589457 199.550769 \nL 308.88553 207.153566 \nL 309.181604 207.153566 \nL 309.477677 207.913846 \nL 309.773751 207.153566 \nL 310.365898 191.947972 \nL 310.661972 207.153566 \nL 310.958045 207.153566 \nL 311.254119 184.345175 \nL 311.550192 200.311049 \nL 311.846266 207.153566 \nL 312.142339 199.550769 \nL 312.438413 207.153566 \nL 312.734487 199.550769 \nL 313.03056 207.153566 \nL 313.326634 199.550769 \nL 313.622707 199.550769 \nL 313.918781 207.153566 \nL 314.214855 199.550769 \nL 314.510928 207.153566 \nL 315.103075 207.153566 \nL 315.399149 199.550769 \nL 315.991296 199.550769 \nL 316.28737 207.153566 \nL 316.583443 200.311049 \nL 316.879517 207.153566 \nL 317.17559 207.153566 \nL 317.471664 199.550769 \nL 317.767737 207.153566 \nL 318.063811 199.550769 \nL 318.359885 207.153566 \nL 318.952032 207.153566 \nL 319.248105 191.947972 \nL 319.544179 207.153566 \nL 320.136326 191.947972 \nL 320.4324 207.153566 \nL 321.32062 207.153566 \nL 321.616694 191.947972 \nL 321.912768 191.947972 \nL 322.208841 199.550769 \nL 322.800988 199.550769 \nL 323.097062 207.153566 \nL 324.57743 207.153566 \nL 324.873503 176.742378 \nL 325.169577 207.153566 \nL 325.761724 207.153566 \nL 326.057798 191.947972 \nL 326.353871 191.947972 \nL 326.649945 207.153566 \nL 327.242092 207.153566 \nL 327.538165 207.913846 \nL 327.834239 207.153566 \nL 328.130313 191.947972 \nL 328.426386 207.153566 \nL 329.314607 184.345175 \nL 329.61068 161.536783 \nL 329.906754 176.742378 \nL 330.202828 207.153566 \nL 330.498901 199.550769 \nL 330.794975 207.153566 \nL 331.091048 199.550769 \nL 331.387122 153.933986 \nL 331.979269 191.947972 \nL 332.275343 207.153566 \nL 332.571416 153.933986 \nL 332.86749 207.153566 \nL 333.163563 191.947972 \nL 333.459637 207.153566 \nL 333.755711 184.345175 \nL 334.051784 207.153566 \nL 334.347858 169.13958 \nL 334.643931 199.550769 \nL 334.940005 199.550769 \nL 335.236078 191.947972 \nL 335.532152 207.153566 \nL 335.828226 207.153566 \nL 336.124299 191.947972 \nL 336.420373 199.550769 \nL 336.716446 199.550769 \nL 337.01252 207.153566 \nL 339.381109 207.153566 \nL 339.677182 191.947972 \nL 340.269329 207.153566 \nL 340.565403 199.550769 \nL 340.861476 207.153566 \nL 341.15755 184.345175 \nL 341.453624 207.153566 \nL 341.749697 207.153566 \nL 342.045771 199.550769 \nL 342.341844 207.153566 \nL 342.637918 169.13958 \nL 343.230065 207.153566 \nL 343.822212 191.947972 \nL 344.118286 207.153566 \nL 344.414359 191.947972 \nL 344.710433 123.522797 \nL 345.006506 207.153566 \nL 345.30258 207.153566 \nL 345.598654 123.522797 \nL 345.894727 207.153566 \nL 346.190801 199.550769 \nL 346.486874 207.153566 \nL 346.782948 191.947972 \nL 347.079021 184.345175 \nL 347.375095 184.345175 \nL 347.671169 207.153566 \nL 347.967242 184.345175 \nL 348.263316 207.153566 \nL 348.559389 207.153566 \nL 348.855463 191.947972 \nL 349.151537 184.345175 \nL 349.44761 207.153566 \nL 349.743684 131.125594 \nL 350.039757 184.345175 \nL 350.335831 207.153566 \nL 350.927978 207.153566 \nL 351.520125 169.13958 \nL 351.816199 207.153566 \nL 352.112272 184.345175 \nL 352.408346 100.714406 \nL 352.704419 176.742378 \nL 353.000493 131.125594 \nL 353.296567 184.345175 \nL 353.59264 184.345175 \nL 353.888714 207.153566 \nL 354.184787 199.550769 \nL 354.480861 207.153566 \nL 354.776934 17.083636 \nL 355.073008 199.550769 \nL 355.369082 161.536783 \nL 355.665155 146.331189 \nL 355.961229 169.13958 \nL 356.257302 207.153566 \nL 356.553376 123.522797 \nL 356.84945 77.906014 \nL 357.145523 115.92 \nL 357.441597 176.742378 \nL 357.73767 17.083636 \nL 358.033744 70.303217 \nL 358.329817 169.13958 \nL 358.625891 169.13958 \nL 358.921965 17.083636 \nL 359.218038 191.947972 \nL 359.514112 176.742378 \nL 359.810185 176.742378 \nL 360.106259 207.153566 \nL 360.402332 199.550769 \nL 360.698406 207.153566 \nL 361.290553 207.153566 \nL 361.586627 199.550769 \nL 361.8827 123.522797 \nL 362.178774 123.522797 \nL 362.474847 70.303217 \nL 362.770921 77.906014 \nL 363.066995 17.083636 \nL 363.363068 123.522797 \nL 363.363068 123.522797 \n\" style=\"fill:none;stroke:#1f77b4;stroke-linecap:square;stroke-width:1.5;\"/>\n   </g>\n   <g id=\"patch_3\">\n    <path d=\"M 43.78125 224.64 \nL 43.78125 7.2 \n\" style=\"fill:none;stroke:#000000;stroke-linecap:square;stroke-linejoin:miter;stroke-width:0.8;\"/>\n   </g>\n   <g id=\"patch_4\">\n    <path d=\"M 378.58125 224.64 \nL 378.58125 7.2 \n\" style=\"fill:none;stroke:#000000;stroke-linecap:square;stroke-linejoin:miter;stroke-width:0.8;\"/>\n   </g>\n   <g id=\"patch_5\">\n    <path d=\"M 43.78125 224.64 \nL 378.58125 224.64 \n\" style=\"fill:none;stroke:#000000;stroke-linecap:square;stroke-linejoin:miter;stroke-width:0.8;\"/>\n   </g>\n   <g id=\"patch_6\">\n    <path d=\"M 43.78125 7.2 \nL 378.58125 7.2 \n\" style=\"fill:none;stroke:#000000;stroke-linecap:square;stroke-linejoin:miter;stroke-width:0.8;\"/>\n   </g>\n  </g>\n </g>\n <defs>\n  <clipPath id=\"pc24934c1be\">\n   <rect height=\"217.44\" width=\"334.8\" x=\"43.78125\" y=\"7.2\"/>\n  </clipPath>\n </defs>\n</svg>\n",
      "text/plain": "<Figure size 432x288 with 1 Axes>"
     },
     "metadata": {
      "needs_background": "light"
     },
     "output_type": "display_data"
    }
   ],
   "source": [
    "import matplotlib.pyplot as plt\n",
    "fig = plt.figure()\n",
    "ax = fig.add_subplot(111)\n",
    "plt.plot(np.arange(1, len(score)+1), score)\n",
    "plt.ylabel('Score')\n",
    "plt.xlabel('Episode #')\n",
    "plt.show()"
   ]
  },
  {
   "cell_type": "code",
   "execution_count": 10,
   "metadata": {},
   "outputs": [
    {
     "name": "stdout",
     "output_type": "stream",
     "text": "Final score [2.60000004 2.60000004]\n"
    }
   ],
   "source": [
    "agents.agents[0].actor_local.load_state_dict(torch.load('tennis_checkpoint_actor_0.pth'))\n",
    "agents.agents[0].critic_local.load_state_dict(torch.load('tennis_checkpoint_critic_0.pth'))\n",
    "agents.agents[1].actor_local.load_state_dict(torch.load('tennis_checkpoint_actor_1.pth'))\n",
    "agents.agents[1].critic_local.load_state_dict(torch.load('tennis_checkpoint_critic_1.pth'))\n",
    "\n",
    "env_info = env.reset(train_mode=False)[brain_name]        \n",
    "states = env_info.vector_observations                  \n",
    "scores = np.zeros(num_agents)                          \n",
    "\n",
    "while True:\n",
    "    actions = agents.act(states, add_noise=False)                    \n",
    "    env_info = env.step(actions)[brain_name]        \n",
    "    next_states = env_info.vector_observations        \n",
    "    rewards = env_info.rewards                        \n",
    "    dones = env_info.local_done                 \n",
    "    scores += rewards                         \n",
    "    states = next_states                              \n",
    "    if np.any(dones):\n",
    "        print (\"Final score {}\".format(scores))\n",
    "        break"
   ]
  },
  {
   "cell_type": "code",
   "execution_count": 11,
   "metadata": {},
   "outputs": [],
   "source": [
    "env.close()"
   ]
  }
 ],
 "metadata": {
  "kernelspec": {
   "display_name": "drlnd",
   "language": "python",
   "name": "drlnd"
  },
  "language_info": {
   "codemirror_mode": {
    "name": "ipython",
    "version": 3
   },
   "file_extension": ".py",
   "mimetype": "text/x-python",
   "name": "python",
   "nbconvert_exporter": "python",
   "pygments_lexer": "ipython3",
   "version": "3.6.9"
  }
 },
 "nbformat": 4,
 "nbformat_minor": 2
}