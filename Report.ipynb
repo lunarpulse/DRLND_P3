{
 "cells": [
  {
   "cell_type": "markdown",
   "metadata": {},
   "source": [
    "# Collaboration and Competition\n",
    "\n",
    "---\n",
    "\n",
    "In this notebook, you will learn how to use the Unity ML-Agents environment for the third project of the [Deep Reinforcement Learning Nanodegree](https://www.udacity.com/course/deep-reinforcement-learning-nanodegree--nd893) program.\n",
    "\n",
    "### 1. Start the Environment\n",
    "\n",
    "We begin by importing the necessary packages.  If the code cell below returns an error, please revisit the project instructions to double-check that you have installed [Unity ML-Agents](https://github.com/Unity-Technologies/ml-agents/blob/master/docs/Installation.md) and [NumPy](http://www.numpy.org/)."
   ]
  },
  {
   "cell_type": "code",
   "execution_count": 1,
   "metadata": {},
   "outputs": [],
   "source": [
    "from unityagents import UnityEnvironment\n",
    "import numpy as np"
   ]
  },
  {
   "cell_type": "markdown",
   "metadata": {},
   "source": [
    "Next, we will start the environment!  **_Before running the code cell below_**, change the `file_name` parameter to match the location of the Unity environment that you downloaded.\n",
    "\n",
    "- **Mac**: `\"path/to/Tennis.app\"`\n",
    "- **Windows** (x86): `\"path/to/Tennis_Windows_x86/Tennis.exe\"`\n",
    "- **Windows** (x86_64): `\"path/to/Tennis_Windows_x86_64/Tennis.exe\"`\n",
    "- **Linux** (x86): `\"path/to/Tennis_Linux/Tennis.x86\"`\n",
    "- **Linux** (x86_64): `\"path/to/Tennis_Linux/Tennis.x86_64\"`\n",
    "- **Linux** (x86, headless): `\"path/to/Tennis_Linux_NoVis/Tennis.x86\"`\n",
    "- **Linux** (x86_64, headless): `\"path/to/Tennis_Linux_NoVis/Tennis.x86_64\"`\n",
    "\n",
    "For instance, if you are using a Mac, then you downloaded `Tennis.app`.  If this file is in the same folder as the notebook, then the line below should appear as follows:\n",
    "```\n",
    "env = UnityEnvironment(file_name=\"Tennis.app\")\n",
    "```"
   ]
  },
  {
   "cell_type": "code",
   "execution_count": 2,
   "metadata": {},
   "outputs": [
    {
     "name": "stderr",
     "output_type": "stream",
     "text": "INFO:unityagents:\n'Academy' started successfully!\nUnity Academy name: Academy\n        Number of Brains: 1\n        Number of External Brains : 1\n        Lesson number : 0\n        Reset Parameters :\n\t\t\nUnity brain name: TennisBrain\n        Number of Visual Observations (per agent): 0\n        Vector Observation space type: continuous\n        Vector Observation space size (per agent): 8\n        Number of stacked Vector Observation: 3\n        Vector Action space type: continuous\n        Vector Action space size (per agent): 2\n        Vector Action descriptions: , \n"
    }
   ],
   "source": [
    "env = UnityEnvironment(file_name=\"./Tennis_Linux/Tennis.x86_64\")"
   ]
  },
  {
   "cell_type": "markdown",
   "metadata": {},
   "source": [
    "Environments contain **_brains_** which are responsible for deciding the actions of their associated agents. Here we check for the first brain available, and set it as the default brain we will be controlling from Python."
   ]
  },
  {
   "cell_type": "code",
   "execution_count": 3,
   "metadata": {},
   "outputs": [],
   "source": [
    "# get the default brain\n",
    "brain_name = env.brain_names[0]\n",
    "brain = env.brains[brain_name]"
   ]
  },
  {
   "cell_type": "markdown",
   "metadata": {},
   "source": [
    "### 2. Examine the State and Action Spaces\n",
    "\n",
    "In this environment, two agents control rackets to bounce a ball over a net. If an agent hits the ball over the net, it receives a reward of +0.1.  If an agent lets a ball hit the ground or hits the ball out of bounds, it receives a reward of -0.01.  Thus, the goal of each agent is to keep the ball in play.\n",
    "\n",
    "The observation space consists of 8 variables corresponding to the position and velocity of the ball and racket. Two continuous actions are available, corresponding to movement toward (or away from) the net, and jumping. \n",
    "\n",
    "Run the code cell below to print some information about the environment."
   ]
  },
  {
   "cell_type": "code",
   "execution_count": 4,
   "metadata": {},
   "outputs": [
    {
     "name": "stdout",
     "output_type": "stream",
     "text": "Number of agents: 2\nSize of each action: 2\nThere are 2 agents. Each observes a state with length: 24\nThe state for the first agent looks like: [ 0.          0.          0.          0.          0.          0.\n  0.          0.          0.          0.          0.          0.\n  0.          0.          0.          0.         -6.65278625 -1.5\n -0.          0.          6.83172083  6.         -0.          0.        ]\n"
    }
   ],
   "source": [
    "# reset the environment\n",
    "env_info = env.reset(train_mode=True)[brain_name]\n",
    "\n",
    "# number of agents \n",
    "num_agents = len(env_info.agents)\n",
    "print('Number of agents:', num_agents)\n",
    "\n",
    "# size of each action\n",
    "action_size = brain.vector_action_space_size\n",
    "print('Size of each action:', action_size)\n",
    "\n",
    "# examine the state space \n",
    "states = env_info.vector_observations\n",
    "state_size = states.shape[1]\n",
    "print('There are {} agents. Each observes a state with length: {}'.format(states.shape[0], state_size))\n",
    "print('The state for the first agent looks like:', states[0])"
   ]
  },
  {
   "cell_type": "markdown",
   "metadata": {},
   "source": [
    "### 3. Take Random Actions in the Environment\n",
    "\n",
    "In the next code cell, you will learn how to use the Python API to control the agents and receive feedback from the environment.\n",
    "\n",
    "Once this cell is executed, you will watch the agents' performance, if they select actions at random with each time step.  A window should pop up that allows you to observe the agents.\n",
    "\n",
    "Of course, as part of the project, you'll have to change the code so that the agents are able to use their experiences to gradually choose better actions when interacting with the environment!"
   ]
  },
  {
   "cell_type": "code",
   "execution_count": 5,
   "metadata": {},
   "outputs": [
    {
     "name": "stdout",
     "output_type": "stream",
     "text": "Score (max over agents) from episode 1: 0.0\nScore (max over agents) from episode 2: 0.0\nScore (max over agents) from episode 3: 0.0\nScore (max over agents) from episode 4: 0.0\nScore (max over agents) from episode 5: 0.0\n"
    }
   ],
   "source": [
    "for i in range(1, 6):                                      # play game for 5 episodes\n",
    "    env_info = env.reset(train_mode=False)[brain_name]     # reset the environment    \n",
    "    states = env_info.vector_observations                  # get the current state (for each agent)\n",
    "    scores = np.zeros(num_agents)                          # initialize the score (for each agent)\n",
    "    while True:\n",
    "        actions = np.random.randn(num_agents, action_size) # select an action (for each agent)\n",
    "        actions = np.clip(actions, -1, 1)                  # all actions between -1 and 1\n",
    "        env_info = env.step(actions)[brain_name]           # send all actions to tne environment\n",
    "        next_states = env_info.vector_observations         # get next state (for each agent)\n",
    "        rewards = env_info.rewards                         # get reward (for each agent)\n",
    "        dones = env_info.local_done                        # see if episode finished\n",
    "        scores += env_info.rewards                         # update the score (for each agent)\n",
    "        states = next_states                               # roll over states to next time step\n",
    "        if np.any(dones):                                  # exit loop if episode finished\n",
    "            break\n",
    "    print('Score (max over agents) from episode {}: {}'.format(i, np.max(scores)))"
   ]
  },
  {
   "cell_type": "markdown",
   "metadata": {},
   "source": [
    "When finished, you can close the environment."
   ]
  },
  {
   "cell_type": "markdown",
   "metadata": {},
   "source": [
    "## 4. Training\n",
    "\n",
    "### 1. Learning Algorithm\n",
    "#### 1. Multi Agent Deep Deterministic Policy Gradients (MADPG)\n",
    "\n",
    "Multi Agent Deep Deterministic Policy Gradients (MADDPG) was utilised to solve a two agent Tennis game. MADDPG contains multiple DDPG agents and DDPG can solve continuous control problems.\n",
    "\n",
    "#### 2. Description of MADDPG\n",
    "- The actor network approximates the optimal policy deterministically (best believed action). \n",
    "- The critic evaluates the optimal action value function using the best believed action given by the actor network.\n",
    "- DDPG also uses a `repĺay buffer` where experience tuples are stored.\n",
    "- Acentralized value functions take into account all states/actions from all agents and this can be trained as a multi-agent system with all agents having a centralized critic and (local) policy; The difficult problem in multi-agent control problem is that the environment is not a MDP anymore if any policy in the system is changed but if the actions of all agents are given, then it will be a MDP again.\n",
    "\n",
    "Initialize critic networks $Q(s,a|\\theta^{Q})$ and actor $\\mu(s|\\theta^{\\mu})$ with weights $\\theta^Q$ and $\\theta^{\\mu}$ \n",
    "<br>\n",
    "Initialize target networks $Q'$ and $\\mu'$ with weigths $\\theta^{Q'} \\leftarrow \\theta^Q $ and $\\theta^{\\mu'} \\leftarrow theta^{\\mu}$\n",
    "<br>\n",
    "Initialize replay buffer R\n",
    "<br>\n",
    " for episode = 1, M do\n",
    "> Initialize a random process $\\mathrm{N}$ for action exploration  \n",
    "> Receive initial observation state $s_0$\n",
    "<br>\n",
    "> for t = 1, T do\n",
    ">>for each agent i, select action $a_t = µ(s^t|\\theta^µ) + N_t$ according to the current policy and exploration noise <br>\n",
    ">>Execute action at and observe reward rt and observe new state $s_{t+1}$ <br>\n",
    ">>Store transition ($s_t$, $a_t$, $r_t$, $s_{t+1}$) in R <br>\n",
    ">>for agent i = 1 to N:<br>\n",
    ">>>Sample a random minibatch of N transitions ($s_i$, $a_i$, $r_i$, $s_{i+1}$) from R  <br>\n",
    ">>>Set $y_i = r_i + \\gamma Q'(s_{i+1}, \\mu'(s_{i+1}|\\theta^{µ'})|\\theta^{Q'})$ <br>\n",
    ">>>Update critic by minimizing the loss: $L = \\frac{1}{N} \\Sigma_i (y_i − Q(s_i , a_i |\\theta^Q))^2$ <br>\n",
    ">>>Update the actor policy using the sampled policy gradient:<br>\n",
    ">>>$$\\nabla_{\\theta^{\\mu}}J \\approx {1}/{S} \\Sigma_j \\nabla_{\\theta_i} Q(s,a| \\theta^Q)|_{s=s_j, a = \\mu(s_j)}  \\nabla_{\\theta^{\\mu}} \\mu (s|\\theta^\\mu)|_{s_j}$$<br>\n",
    ">> Update the target networks:\n",
    ">> $$ \\theta^{Q'} \\leftarrow \\tau \\theta^Q + (1-\\tau) \\theta^{Q'}$$\n",
    ">> $$ \\theta^{\\mu'} \\leftarrow \\tau \\mu^Q + (1-\\tau) \\theta^{\\mu'}$$\n",
    "\n",
    "#### 3. Hyper-parameters\n",
    "\n",
    "| Parameter Name      | Description           | Value  |\n",
    "| ------------- |:-------------:| -----:|\n",
    "| BUFFER_SIZE      | Size of the replay buffer | 5e4 |\n",
    "| BATCH_SIZE      | Mini-batch size      |   256 |\n",
    "| GAMMA ($\\gamma$) | Discount factor      |   0.99 |\n",
    "| TAU ($\\tau$) |  \t coefficient for soft update of target| 1e-3 |\n",
    "| LR_ACTOR|Actor learning rate | 1e-4 |\n",
    "| LR_CRITIC| Critic learning rate| 5e-4 |\n",
    "| WEIGHT_DECAY_ACTOR| L2 weight decay for ACTOR|0.0|\n",
    "| WEIGHT_DECAY_CRITIC| L2 weight decay for CRITIC|0.0|\n",
    "|OU_SIGMA|Ornstein-Uhlenbeck noise parameter, volatility|0.2 |\n",
    "|OU_THETA|Ornstein-Uhlenbeck noise parameter, speed of mean |0.15|\n",
    "|EPS_START|reversion initial value for epsilon in noise decay process in Agent.act() |5.0|\n",
    "|EPS_EP_END|episode to end the noise decay process|300|\n",
    "|EPS_FINAL|final value for epsilon after decay|0.0|\n",
    "\n",
    "#### 4. MADDPG layer settings\n",
    "Each Actor and Critic agents have 3 layers of weights and the size of the each layers are the same, from fine tuning attempts, the fastest number of nodes in hidden layers were `fc1_units=256, fc2_units=128`. These numbers are highly depends on the environments, the number of possible angles and position of the target. The larger nodes in a layer the higher capacity to learn but slower to converge. It is essential to find the optimal number of nodes which is capable of solving the environment with the fastest time. If training score oscilates, the number of nodes needs to be increased as there is not enough room to store learning. If it grows too slow, the number of nodes need to be reduced as it is hard to fill."
   ]
  },
  {
   "cell_type": "code",
   "execution_count": 6,
   "metadata": {},
   "outputs": [],
   "source": [
    "from collections import deque\n",
    "import time\n",
    "import torch\n",
    "\n",
    "def maddpg(n_episodes=2000, max_t=1000, print_every=10):\n",
    "    t0=time.time()\n",
    "    scores_deque = deque(maxlen=100)\n",
    "    scores = []\n",
    "    for i_episode in range(1, n_episodes+1):\n",
    "        env_info = env.reset(train_mode=True)[brain_name]\n",
    "        state = env_info.vector_observations\n",
    "        score = np.zeros(num_agents)\n",
    "        agents.reset() # noise reset only currently\n",
    "        for t in range(max_t):\n",
    "            action = agents.act(state)\n",
    "            env_info = env.step(action)[brain_name]\n",
    "            next_state = env_info.vector_observations\n",
    "            rewards = env_info.rewards\n",
    "            dones = env_info.local_done\n",
    "            score += rewards\n",
    "            agents.step(state, action, rewards, next_state, dones)\n",
    "            state = next_state\n",
    "            if np.any(dones):\n",
    "                break \n",
    "        score = np.max(score)\n",
    "        scores.append(score)\n",
    "        scores_deque.append(np.mean(score))\n",
    "        average_score = np.mean(scores_deque)\n",
    "\n",
    "        if i_episode > 0 and i_episode % print_every == 0:\n",
    "            print('\\rEpisode {}\\tAverage Score: {:.4f}'.format(i_episode, average_score))\n",
    "        if average_score > 0.5:\n",
    "            print('\\nProblem solved at episode {} with an average Score: {:.4f}'.format(i_episode, average_score))\n",
    "            break\n",
    "    t1=time.time()\n",
    "\n",
    "    print(\"\\nTotal time elapsed: {} seconds\".format(t1-t0))\n",
    "    torch.save(agents.agents[0].actor_local.state_dict(), 'tennis_checkpoint_actor_0.pth')\n",
    "    torch.save(agents.agents[0].critic_local.state_dict(), 'tennis_checkpoint_critic_0.pth') \n",
    "    torch.save(agents.agents[1].actor_local.state_dict(), 'tennis_checkpoint_actor_1.pth')\n",
    "    torch.save(agents.agents[1].critic_local.state_dict(), 'tennis_checkpoint_critic_1.pth')\n",
    "    \n",
    "    return scores\n"
   ]
  },
  {
   "cell_type": "code",
   "execution_count": 7,
   "metadata": {},
   "outputs": [],
   "source": [
    "from agent import MADDPG\n",
    "#initialisation of the model\n",
    "agents = MADDPG(state_size=state_size, action_size=action_size, num_agents=num_agents, random_seed=10)"
   ]
  },
  {
   "cell_type": "code",
   "execution_count": 8,
   "metadata": {},
   "outputs": [
    {
     "name": "stdout",
     "output_type": "stream",
     "text": "Episode 50\tAverage Score: 0.0020\nEpisode 100\tAverage Score: 0.0010\nEpisode 150\tAverage Score: 0.0000\nEpisode 200\tAverage Score: 0.0018\nEpisode 250\tAverage Score: 0.0018\nEpisode 300\tAverage Score: 0.0000\nEpisode 350\tAverage Score: 0.0000\nEpisode 400\tAverage Score: 0.0000\nEpisode 450\tAverage Score: 0.0010\nEpisode 500\tAverage Score: 0.0029\nEpisode 550\tAverage Score: 0.0126\nEpisode 600\tAverage Score: 0.0294\nEpisode 650\tAverage Score: 0.0304\nEpisode 700\tAverage Score: 0.0244\nEpisode 750\tAverage Score: 0.0137\nEpisode 800\tAverage Score: 0.0246\nEpisode 850\tAverage Score: 0.0423\nEpisode 900\tAverage Score: 0.0458\nEpisode 950\tAverage Score: 0.0639\nEpisode 1000\tAverage Score: 0.1095\nEpisode 1050\tAverage Score: 0.1377\nEpisode 1100\tAverage Score: 0.1270\nEpisode 1150\tAverage Score: 0.1533\nEpisode 1200\tAverage Score: 0.1818\nEpisode 1250\tAverage Score: 0.1641\nEpisode 1300\tAverage Score: 0.4289\n\nProblem solved at episode 1303 with an average Score: 0.5039\n\nTotal time elapsed: 1498.3966870307922 seconds\n"
    }
   ],
   "source": [
    "n_episodes = 10000\n",
    "print_every = 50\n",
    "\n",
    "#training for n_episodes\n",
    "score = maddpg(n_episodes=n_episodes, print_every=print_every)"
   ]
  },
  {
   "cell_type": "markdown",
   "execution_count": null,
   "metadata": {},
   "outputs": [],
   "source": [
    "### 5. Results\n",
    "\n",
    "#### 1. Discussion on the result plot\n",
    "The picture below shows how the Multi Agent Deep Deterministic Policy Gradients (MADDPG) was trained with between 1000 to 1050 episodes, around 1030 episodes\n",
    "The learning algorithms were not finding the policies to score positively early training session. Once agents knows which actions in specific states yields higher rewards, it starts to converge to the policies rather exponentially.\n",
    "The stable learning after the score of 0.25 shows that the chosen set of hyper parameters are adequate for this environment. However, this stability can be increased by using priortised experience replay or Generalized Advantage Estimation.\n",
    "OUN noise played an important role in exploration in early training stages, from 0 to 6 episodes. The effect of exploration were recorded as oscilation of score during the stage. After enough exploration, the agents could learn the envionment exponentially.\n",
    "\n",
    "### 6. Future Work\n",
    "\n",
    "This DDPG can be augmented with:\n",
    "- GAE (Generalized Advantage Estimation) : more generalised Advantage estimation\n",
    "- PER (Priority Experience Replay) : more efficient use of Replay buffer, I have tried it in the other branch. not optimised yet.\n",
    "\n",
    "Other architectural methods can be applied to solve the environment:\n",
    "- PPO (Proximal Policy Optimisation)\n",
    "- A3C."
   ]
  },
  {
   "cell_type": "code",
   "execution_count": 9,
   "metadata": {},
   "outputs": [
    {
     "data": {
      "image/png": "[encoded data removed]",
      "image/svg+xml": "<?xml version=\"1.0\" encoding=\"utf-8\" standalone=\"no\"?>\n<!DOCTYPE svg PUBLIC \"-//W3C//DTD SVG 1.1//EN\"\n  \"http://www.w3.org/Graphics/SVG/1.1/DTD/svg11.dtd\">\n<!-- Created with matplotlib (https://matplotlib.org/) -->\n<svg height=\"262.19625pt\" version=\"1.1\" viewBox=\"0 0 385.78125 262.19625\" width=\"385.78125pt\" xmlns=\"http://www.w3.org/2000/svg\" xmlns:xlink=\"http://www.w3.org/1999/xlink\">\n <defs>\n  <style type=\"text/css\">\n*{stroke-linecap:butt;stroke-linejoin:round;}\n  </style>\n </defs>\n <g id=\"figure_1\">\n  <g id=\"patch_1\">\n   <path d=\"M 0 262.19625 \nL 385.78125 262.19625 \nL 385.78125 0 \nL 0 0 \nz\n\" style=\"fill:none;\"/>\n  </g>\n  <g id=\"axes_1\">\n   <g id=\"patch_2\">\n    <path d=\"M 43.78125 224.64 \nL 378.58125 224.64 \nL 378.58125 7.2 \nL 43.78125 7.2 \nz\n\" style=\"fill:#ffffff;\"/>\n   </g>\n   <g id=\"matplotlib.axis_1\">\n    <g id=\"xtick_1\">\n     <g id=\"line2d_1\">\n      <defs>\n       <path d=\"M 0 0 \nL 0 3.5 \n\" id=\"m064a3d4804\" style=\"stroke:#000000;stroke-width:0.8;\"/>\n      </defs>\n      <g>\n       <use style=\"stroke:#000000;stroke-width:0.8;\" x=\"58.765666\" xlink:href=\"#m064a3d4804\" y=\"224.64\"/>\n      </g>\n     </g>\n     <g id=\"text_1\">\n      <!-- 0 -->\n      <defs>\n       <path d=\"M 31.78125 66.40625 \nQ 24.171875 66.40625 20.328125 58.90625 \nQ 16.5 51.421875 16.5 36.375 \nQ 16.5 21.390625 20.328125 13.890625 \nQ 24.171875 6.390625 31.78125 6.390625 \nQ 39.453125 6.390625 43.28125 13.890625 \nQ 47.125 21.390625 47.125 36.375 \nQ 47.125 51.421875 43.28125 58.90625 \nQ 39.453125 66.40625 31.78125 66.40625 \nz\nM 31.78125 74.21875 \nQ 44.046875 74.21875 50.515625 64.515625 \nQ 56.984375 54.828125 56.984375 36.375 \nQ 56.984375 17.96875 50.515625 8.265625 \nQ 44.046875 -1.421875 31.78125 -1.421875 \nQ 19.53125 -1.421875 13.0625 8.265625 \nQ 6.59375 17.96875 6.59375 36.375 \nQ 6.59375 54.828125 13.0625 64.515625 \nQ 19.53125 74.21875 31.78125 74.21875 \nz\n\" id=\"DejaVuSans-48\"/>\n      </defs>\n      <g transform=\"translate(55.584416 239.238437)scale(0.1 -0.1)\">\n       <use xlink:href=\"#DejaVuSans-48\"/>\n      </g>\n     </g>\n    </g>\n    <g id=\"xtick_2\">\n     <g id=\"line2d_2\">\n      <g>\n       <use style=\"stroke:#000000;stroke-width:0.8;\" x=\"105.518912\" xlink:href=\"#m064a3d4804\" y=\"224.64\"/>\n      </g>\n     </g>\n     <g id=\"text_2\">\n      <!-- 200 -->\n      <defs>\n       <path d=\"M 19.1875 8.296875 \nL 53.609375 8.296875 \nL 53.609375 0 \nL 7.328125 0 \nL 7.328125 8.296875 \nQ 12.9375 14.109375 22.625 23.890625 \nQ 32.328125 33.6875 34.8125 36.53125 \nQ 39.546875 41.84375 41.421875 45.53125 \nQ 43.3125 49.21875 43.3125 52.78125 \nQ 43.3125 58.59375 39.234375 62.25 \nQ 35.15625 65.921875 28.609375 65.921875 \nQ 23.96875 65.921875 18.8125 64.3125 \nQ 13.671875 62.703125 7.8125 59.421875 \nL 7.8125 69.390625 \nQ 13.765625 71.78125 18.9375 73 \nQ 24.125 74.21875 28.421875 74.21875 \nQ 39.75 74.21875 46.484375 68.546875 \nQ 53.21875 62.890625 53.21875 53.421875 \nQ 53.21875 48.921875 51.53125 44.890625 \nQ 49.859375 40.875 45.40625 35.40625 \nQ 44.1875 33.984375 37.640625 27.21875 \nQ 31.109375 20.453125 19.1875 8.296875 \nz\n\" id=\"DejaVuSans-50\"/>\n      </defs>\n      <g transform=\"translate(95.975162 239.238437)scale(0.1 -0.1)\">\n       <use xlink:href=\"#DejaVuSans-50\"/>\n       <use x=\"63.623047\" xlink:href=\"#DejaVuSans-48\"/>\n       <use x=\"127.246094\" xlink:href=\"#DejaVuSans-48\"/>\n      </g>\n     </g>\n    </g>\n    <g id=\"xtick_3\">\n     <g id=\"line2d_3\">\n      <g>\n       <use style=\"stroke:#000000;stroke-width:0.8;\" x=\"152.272159\" xlink:href=\"#m064a3d4804\" y=\"224.64\"/>\n      </g>\n     </g>\n     <g id=\"text_3\">\n      <!-- 400 -->\n      <defs>\n       <path d=\"M 37.796875 64.3125 \nL 12.890625 25.390625 \nL 37.796875 25.390625 \nz\nM 35.203125 72.90625 \nL 47.609375 72.90625 \nL 47.609375 25.390625 \nL 58.015625 25.390625 \nL 58.015625 17.1875 \nL 47.609375 17.1875 \nL 47.609375 0 \nL 37.796875 0 \nL 37.796875 17.1875 \nL 4.890625 17.1875 \nL 4.890625 26.703125 \nz\n\" id=\"DejaVuSans-52\"/>\n      </defs>\n      <g transform=\"translate(142.728409 239.238437)scale(0.1 -0.1)\">\n       <use xlink:href=\"#DejaVuSans-52\"/>\n       <use x=\"63.623047\" xlink:href=\"#DejaVuSans-48\"/>\n       <use x=\"127.246094\" xlink:href=\"#DejaVuSans-48\"/>\n      </g>\n     </g>\n    </g>\n    <g id=\"xtick_4\">\n     <g id=\"line2d_4\">\n      <g>\n       <use style=\"stroke:#000000;stroke-width:0.8;\" x=\"199.025406\" xlink:href=\"#m064a3d4804\" y=\"224.64\"/>\n      </g>\n     </g>\n     <g id=\"text_4\">\n      <!-- 600 -->\n      <defs>\n       <path d=\"M 33.015625 40.375 \nQ 26.375 40.375 22.484375 35.828125 \nQ 18.609375 31.296875 18.609375 23.390625 \nQ 18.609375 15.53125 22.484375 10.953125 \nQ 26.375 6.390625 33.015625 6.390625 \nQ 39.65625 6.390625 43.53125 10.953125 \nQ 47.40625 15.53125 47.40625 23.390625 \nQ 47.40625 31.296875 43.53125 35.828125 \nQ 39.65625 40.375 33.015625 40.375 \nz\nM 52.59375 71.296875 \nL 52.59375 62.3125 \nQ 48.875 64.0625 45.09375 64.984375 \nQ 41.3125 65.921875 37.59375 65.921875 \nQ 27.828125 65.921875 22.671875 59.328125 \nQ 17.53125 52.734375 16.796875 39.40625 \nQ 19.671875 43.65625 24.015625 45.921875 \nQ 28.375 48.1875 33.59375 48.1875 \nQ 44.578125 48.1875 50.953125 41.515625 \nQ 57.328125 34.859375 57.328125 23.390625 \nQ 57.328125 12.15625 50.6875 5.359375 \nQ 44.046875 -1.421875 33.015625 -1.421875 \nQ 20.359375 -1.421875 13.671875 8.265625 \nQ 6.984375 17.96875 6.984375 36.375 \nQ 6.984375 53.65625 15.1875 63.9375 \nQ 23.390625 74.21875 37.203125 74.21875 \nQ 40.921875 74.21875 44.703125 73.484375 \nQ 48.484375 72.75 52.59375 71.296875 \nz\n\" id=\"DejaVuSans-54\"/>\n      </defs>\n      <g transform=\"translate(189.481656 239.238437)scale(0.1 -0.1)\">\n       <use xlink:href=\"#DejaVuSans-54\"/>\n       <use x=\"63.623047\" xlink:href=\"#DejaVuSans-48\"/>\n       <use x=\"127.246094\" xlink:href=\"#DejaVuSans-48\"/>\n      </g>\n     </g>\n    </g>\n    <g id=\"xtick_5\">\n     <g id=\"line2d_5\">\n      <g>\n       <use style=\"stroke:#000000;stroke-width:0.8;\" x=\"245.778653\" xlink:href=\"#m064a3d4804\" y=\"224.64\"/>\n      </g>\n     </g>\n     <g id=\"text_5\">\n      <!-- 800 -->\n      <defs>\n       <path d=\"M 31.78125 34.625 \nQ 24.75 34.625 20.71875 30.859375 \nQ 16.703125 27.09375 16.703125 20.515625 \nQ 16.703125 13.921875 20.71875 10.15625 \nQ 24.75 6.390625 31.78125 6.390625 \nQ 38.8125 6.390625 42.859375 10.171875 \nQ 46.921875 13.96875 46.921875 20.515625 \nQ 46.921875 27.09375 42.890625 30.859375 \nQ 38.875 34.625 31.78125 34.625 \nz\nM 21.921875 38.8125 \nQ 15.578125 40.375 12.03125 44.71875 \nQ 8.5 49.078125 8.5 55.328125 \nQ 8.5 64.0625 14.71875 69.140625 \nQ 20.953125 74.21875 31.78125 74.21875 \nQ 42.671875 74.21875 48.875 69.140625 \nQ 55.078125 64.0625 55.078125 55.328125 \nQ 55.078125 49.078125 51.53125 44.71875 \nQ 48 40.375 41.703125 38.8125 \nQ 48.828125 37.15625 52.796875 32.3125 \nQ 56.78125 27.484375 56.78125 20.515625 \nQ 56.78125 9.90625 50.3125 4.234375 \nQ 43.84375 -1.421875 31.78125 -1.421875 \nQ 19.734375 -1.421875 13.25 4.234375 \nQ 6.78125 9.90625 6.78125 20.515625 \nQ 6.78125 27.484375 10.78125 32.3125 \nQ 14.796875 37.15625 21.921875 38.8125 \nz\nM 18.3125 54.390625 \nQ 18.3125 48.734375 21.84375 45.5625 \nQ 25.390625 42.390625 31.78125 42.390625 \nQ 38.140625 42.390625 41.71875 45.5625 \nQ 45.3125 48.734375 45.3125 54.390625 \nQ 45.3125 60.0625 41.71875 63.234375 \nQ 38.140625 66.40625 31.78125 66.40625 \nQ 25.390625 66.40625 21.84375 63.234375 \nQ 18.3125 60.0625 18.3125 54.390625 \nz\n\" id=\"DejaVuSans-56\"/>\n      </defs>\n      <g transform=\"translate(236.234903 239.238437)scale(0.1 -0.1)\">\n       <use xlink:href=\"#DejaVuSans-56\"/>\n       <use x=\"63.623047\" xlink:href=\"#DejaVuSans-48\"/>\n       <use x=\"127.246094\" xlink:href=\"#DejaVuSans-48\"/>\n      </g>\n     </g>\n    </g>\n    <g id=\"xtick_6\">\n     <g id=\"line2d_6\">\n      <g>\n       <use style=\"stroke:#000000;stroke-width:0.8;\" x=\"292.531899\" xlink:href=\"#m064a3d4804\" y=\"224.64\"/>\n      </g>\n     </g>\n     <g id=\"text_6\">\n      <!-- 1000 -->\n      <defs>\n       <path d=\"M 12.40625 8.296875 \nL 28.515625 8.296875 \nL 28.515625 63.921875 \nL 10.984375 60.40625 \nL 10.984375 69.390625 \nL 28.421875 72.90625 \nL 38.28125 72.90625 \nL 38.28125 8.296875 \nL 54.390625 8.296875 \nL 54.390625 0 \nL 12.40625 0 \nz\n\" id=\"DejaVuSans-49\"/>\n      </defs>\n      <g transform=\"translate(279.806899 239.238437)scale(0.1 -0.1)\">\n       <use xlink:href=\"#DejaVuSans-49\"/>\n       <use x=\"63.623047\" xlink:href=\"#DejaVuSans-48\"/>\n       <use x=\"127.246094\" xlink:href=\"#DejaVuSans-48\"/>\n       <use x=\"190.869141\" xlink:href=\"#DejaVuSans-48\"/>\n      </g>\n     </g>\n    </g>\n    <g id=\"xtick_7\">\n     <g id=\"line2d_7\">\n      <g>\n       <use style=\"stroke:#000000;stroke-width:0.8;\" x=\"339.285146\" xlink:href=\"#m064a3d4804\" y=\"224.64\"/>\n      </g>\n     </g>\n     <g id=\"text_7\">\n      <!-- 1200 -->\n      <g transform=\"translate(326.560146 239.238437)scale(0.1 -0.1)\">\n       <use xlink:href=\"#DejaVuSans-49\"/>\n       <use x=\"63.623047\" xlink:href=\"#DejaVuSans-50\"/>\n       <use x=\"127.246094\" xlink:href=\"#DejaVuSans-48\"/>\n       <use x=\"190.869141\" xlink:href=\"#DejaVuSans-48\"/>\n      </g>\n     </g>\n    </g>\n    <g id=\"text_8\">\n     <!-- Episode # -->\n     <defs>\n      <path d=\"M 9.8125 72.90625 \nL 55.90625 72.90625 \nL 55.90625 64.59375 \nL 19.671875 64.59375 \nL 19.671875 43.015625 \nL 54.390625 43.015625 \nL 54.390625 34.71875 \nL 19.671875 34.71875 \nL 19.671875 8.296875 \nL 56.78125 8.296875 \nL 56.78125 0 \nL 9.8125 0 \nz\n\" id=\"DejaVuSans-69\"/>\n      <path d=\"M 18.109375 8.203125 \nL 18.109375 -20.796875 \nL 9.078125 -20.796875 \nL 9.078125 54.6875 \nL 18.109375 54.6875 \nL 18.109375 46.390625 \nQ 20.953125 51.265625 25.265625 53.625 \nQ 29.59375 56 35.59375 56 \nQ 45.5625 56 51.78125 48.09375 \nQ 58.015625 40.1875 58.015625 27.296875 \nQ 58.015625 14.40625 51.78125 6.484375 \nQ 45.5625 -1.421875 35.59375 -1.421875 \nQ 29.59375 -1.421875 25.265625 0.953125 \nQ 20.953125 3.328125 18.109375 8.203125 \nz\nM 48.6875 27.296875 \nQ 48.6875 37.203125 44.609375 42.84375 \nQ 40.53125 48.484375 33.40625 48.484375 \nQ 26.265625 48.484375 22.1875 42.84375 \nQ 18.109375 37.203125 18.109375 27.296875 \nQ 18.109375 17.390625 22.1875 11.75 \nQ 26.265625 6.109375 33.40625 6.109375 \nQ 40.53125 6.109375 44.609375 11.75 \nQ 48.6875 17.390625 48.6875 27.296875 \nz\n\" id=\"DejaVuSans-112\"/>\n      <path d=\"M 9.421875 54.6875 \nL 18.40625 54.6875 \nL 18.40625 0 \nL 9.421875 0 \nz\nM 9.421875 75.984375 \nL 18.40625 75.984375 \nL 18.40625 64.59375 \nL 9.421875 64.59375 \nz\n\" id=\"DejaVuSans-105\"/>\n      <path d=\"M 44.28125 53.078125 \nL 44.28125 44.578125 \nQ 40.484375 46.53125 36.375 47.5 \nQ 32.28125 48.484375 27.875 48.484375 \nQ 21.1875 48.484375 17.84375 46.4375 \nQ 14.5 44.390625 14.5 40.28125 \nQ 14.5 37.15625 16.890625 35.375 \nQ 19.28125 33.59375 26.515625 31.984375 \nL 29.59375 31.296875 \nQ 39.15625 29.25 43.1875 25.515625 \nQ 47.21875 21.78125 47.21875 15.09375 \nQ 47.21875 7.46875 41.1875 3.015625 \nQ 35.15625 -1.421875 24.609375 -1.421875 \nQ 20.21875 -1.421875 15.453125 -0.5625 \nQ 10.6875 0.296875 5.421875 2 \nL 5.421875 11.28125 \nQ 10.40625 8.6875 15.234375 7.390625 \nQ 20.0625 6.109375 24.8125 6.109375 \nQ 31.15625 6.109375 34.5625 8.28125 \nQ 37.984375 10.453125 37.984375 14.40625 \nQ 37.984375 18.0625 35.515625 20.015625 \nQ 33.0625 21.96875 24.703125 23.78125 \nL 21.578125 24.515625 \nQ 13.234375 26.265625 9.515625 29.90625 \nQ 5.8125 33.546875 5.8125 39.890625 \nQ 5.8125 47.609375 11.28125 51.796875 \nQ 16.75 56 26.8125 56 \nQ 31.78125 56 36.171875 55.265625 \nQ 40.578125 54.546875 44.28125 53.078125 \nz\n\" id=\"DejaVuSans-115\"/>\n      <path d=\"M 30.609375 48.390625 \nQ 23.390625 48.390625 19.1875 42.75 \nQ 14.984375 37.109375 14.984375 27.296875 \nQ 14.984375 17.484375 19.15625 11.84375 \nQ 23.34375 6.203125 30.609375 6.203125 \nQ 37.796875 6.203125 41.984375 11.859375 \nQ 46.1875 17.53125 46.1875 27.296875 \nQ 46.1875 37.015625 41.984375 42.703125 \nQ 37.796875 48.390625 30.609375 48.390625 \nz\nM 30.609375 56 \nQ 42.328125 56 49.015625 48.375 \nQ 55.71875 40.765625 55.71875 27.296875 \nQ 55.71875 13.875 49.015625 6.21875 \nQ 42.328125 -1.421875 30.609375 -1.421875 \nQ 18.84375 -1.421875 12.171875 6.21875 \nQ 5.515625 13.875 5.515625 27.296875 \nQ 5.515625 40.765625 12.171875 48.375 \nQ 18.84375 56 30.609375 56 \nz\n\" id=\"DejaVuSans-111\"/>\n      <path d=\"M 45.40625 46.390625 \nL 45.40625 75.984375 \nL 54.390625 75.984375 \nL 54.390625 0 \nL 45.40625 0 \nL 45.40625 8.203125 \nQ 42.578125 3.328125 38.25 0.953125 \nQ 33.9375 -1.421875 27.875 -1.421875 \nQ 17.96875 -1.421875 11.734375 6.484375 \nQ 5.515625 14.40625 5.515625 27.296875 \nQ 5.515625 40.1875 11.734375 48.09375 \nQ 17.96875 56 27.875 56 \nQ 33.9375 56 38.25 53.625 \nQ 42.578125 51.265625 45.40625 46.390625 \nz\nM 14.796875 27.296875 \nQ 14.796875 17.390625 18.875 11.75 \nQ 22.953125 6.109375 30.078125 6.109375 \nQ 37.203125 6.109375 41.296875 11.75 \nQ 45.40625 17.390625 45.40625 27.296875 \nQ 45.40625 37.203125 41.296875 42.84375 \nQ 37.203125 48.484375 30.078125 48.484375 \nQ 22.953125 48.484375 18.875 42.84375 \nQ 14.796875 37.203125 14.796875 27.296875 \nz\n\" id=\"DejaVuSans-100\"/>\n      <path d=\"M 56.203125 29.59375 \nL 56.203125 25.203125 \nL 14.890625 25.203125 \nQ 15.484375 15.921875 20.484375 11.0625 \nQ 25.484375 6.203125 34.421875 6.203125 \nQ 39.59375 6.203125 44.453125 7.46875 \nQ 49.3125 8.734375 54.109375 11.28125 \nL 54.109375 2.78125 \nQ 49.265625 0.734375 44.1875 -0.34375 \nQ 39.109375 -1.421875 33.890625 -1.421875 \nQ 20.796875 -1.421875 13.15625 6.1875 \nQ 5.515625 13.8125 5.515625 26.8125 \nQ 5.515625 40.234375 12.765625 48.109375 \nQ 20.015625 56 32.328125 56 \nQ 43.359375 56 49.78125 48.890625 \nQ 56.203125 41.796875 56.203125 29.59375 \nz\nM 47.21875 32.234375 \nQ 47.125 39.59375 43.09375 43.984375 \nQ 39.0625 48.390625 32.421875 48.390625 \nQ 24.90625 48.390625 20.390625 44.140625 \nQ 15.875 39.890625 15.1875 32.171875 \nz\n\" id=\"DejaVuSans-101\"/>\n      <path id=\"DejaVuSans-32\"/>\n      <path d=\"M 51.125 44 \nL 36.921875 44 \nL 32.8125 27.6875 \nL 47.125 27.6875 \nz\nM 43.796875 71.78125 \nL 38.71875 51.515625 \nL 52.984375 51.515625 \nL 58.109375 71.78125 \nL 65.921875 71.78125 \nL 60.890625 51.515625 \nL 76.125 51.515625 \nL 76.125 44 \nL 58.984375 44 \nL 54.984375 27.6875 \nL 70.515625 27.6875 \nL 70.515625 20.21875 \nL 53.078125 20.21875 \nL 48 0 \nL 40.1875 0 \nL 45.21875 20.21875 \nL 30.90625 20.21875 \nL 25.875 0 \nL 18.015625 0 \nL 23.09375 20.21875 \nL 7.71875 20.21875 \nL 7.71875 27.6875 \nL 24.90625 27.6875 \nL 29 44 \nL 13.28125 44 \nL 13.28125 51.515625 \nL 30.90625 51.515625 \nL 35.890625 71.78125 \nz\n\" id=\"DejaVuSans-35\"/>\n     </defs>\n     <g transform=\"translate(185.764844 252.916562)scale(0.1 -0.1)\">\n      <use xlink:href=\"#DejaVuSans-69\"/>\n      <use x=\"63.183594\" xlink:href=\"#DejaVuSans-112\"/>\n      <use x=\"126.660156\" xlink:href=\"#DejaVuSans-105\"/>\n      <use x=\"154.443359\" xlink:href=\"#DejaVuSans-115\"/>\n      <use x=\"206.542969\" xlink:href=\"#DejaVuSans-111\"/>\n      <use x=\"267.724609\" xlink:href=\"#DejaVuSans-100\"/>\n      <use x=\"331.201172\" xlink:href=\"#DejaVuSans-101\"/>\n      <use x=\"392.724609\" xlink:href=\"#DejaVuSans-32\"/>\n      <use x=\"424.511719\" xlink:href=\"#DejaVuSans-35\"/>\n     </g>\n    </g>\n   </g>\n   <g id=\"matplotlib.axis_2\">\n    <g id=\"ytick_1\">\n     <g id=\"line2d_8\">\n      <defs>\n       <path d=\"M 0 0 \nL -3.5 0 \n\" id=\"m2f1851ba29\" style=\"stroke:#000000;stroke-width:0.8;\"/>\n      </defs>\n      <g>\n       <use style=\"stroke:#000000;stroke-width:0.8;\" x=\"43.78125\" xlink:href=\"#m2f1851ba29\" y=\"214.756364\"/>\n      </g>\n     </g>\n     <g id=\"text_9\">\n      <!-- 0.0 -->\n      <defs>\n       <path d=\"M 10.6875 12.40625 \nL 21 12.40625 \nL 21 0 \nL 10.6875 0 \nz\n\" id=\"DejaVuSans-46\"/>\n      </defs>\n      <g transform=\"translate(20.878125 218.555582)scale(0.1 -0.1)\">\n       <use xlink:href=\"#DejaVuSans-48\"/>\n       <use x=\"63.623047\" xlink:href=\"#DejaVuSans-46\"/>\n       <use x=\"95.410156\" xlink:href=\"#DejaVuSans-48\"/>\n      </g>\n     </g>\n    </g>\n    <g id=\"ytick_2\">\n     <g id=\"line2d_9\">\n      <g>\n       <use style=\"stroke:#000000;stroke-width:0.8;\" x=\"43.78125\" xlink:href=\"#m2f1851ba29\" y=\"178.150304\"/>\n      </g>\n     </g>\n     <g id=\"text_10\">\n      <!-- 0.5 -->\n      <defs>\n       <path d=\"M 10.796875 72.90625 \nL 49.515625 72.90625 \nL 49.515625 64.59375 \nL 19.828125 64.59375 \nL 19.828125 46.734375 \nQ 21.96875 47.46875 24.109375 47.828125 \nQ 26.265625 48.1875 28.421875 48.1875 \nQ 40.625 48.1875 47.75 41.5 \nQ 54.890625 34.8125 54.890625 23.390625 \nQ 54.890625 11.625 47.5625 5.09375 \nQ 40.234375 -1.421875 26.90625 -1.421875 \nQ 22.3125 -1.421875 17.546875 -0.640625 \nQ 12.796875 0.140625 7.71875 1.703125 \nL 7.71875 11.625 \nQ 12.109375 9.234375 16.796875 8.0625 \nQ 21.484375 6.890625 26.703125 6.890625 \nQ 35.15625 6.890625 40.078125 11.328125 \nQ 45.015625 15.765625 45.015625 23.390625 \nQ 45.015625 31 40.078125 35.4375 \nQ 35.15625 39.890625 26.703125 39.890625 \nQ 22.75 39.890625 18.8125 39.015625 \nQ 14.890625 38.140625 10.796875 36.28125 \nz\n\" id=\"DejaVuSans-53\"/>\n      </defs>\n      <g transform=\"translate(20.878125 181.949522)scale(0.1 -0.1)\">\n       <use xlink:href=\"#DejaVuSans-48\"/>\n       <use x=\"63.623047\" xlink:href=\"#DejaVuSans-46\"/>\n       <use x=\"95.410156\" xlink:href=\"#DejaVuSans-53\"/>\n      </g>\n     </g>\n    </g>\n    <g id=\"ytick_3\">\n     <g id=\"line2d_10\">\n      <g>\n       <use style=\"stroke:#000000;stroke-width:0.8;\" x=\"43.78125\" xlink:href=\"#m2f1851ba29\" y=\"141.544244\"/>\n      </g>\n     </g>\n     <g id=\"text_11\">\n      <!-- 1.0 -->\n      <g transform=\"translate(20.878125 145.343462)scale(0.1 -0.1)\">\n       <use xlink:href=\"#DejaVuSans-49\"/>\n       <use x=\"63.623047\" xlink:href=\"#DejaVuSans-46\"/>\n       <use x=\"95.410156\" xlink:href=\"#DejaVuSans-48\"/>\n      </g>\n     </g>\n    </g>\n    <g id=\"ytick_4\">\n     <g id=\"line2d_11\">\n      <g>\n       <use style=\"stroke:#000000;stroke-width:0.8;\" x=\"43.78125\" xlink:href=\"#m2f1851ba29\" y=\"104.938183\"/>\n      </g>\n     </g>\n     <g id=\"text_12\">\n      <!-- 1.5 -->\n      <g transform=\"translate(20.878125 108.737402)scale(0.1 -0.1)\">\n       <use xlink:href=\"#DejaVuSans-49\"/>\n       <use x=\"63.623047\" xlink:href=\"#DejaVuSans-46\"/>\n       <use x=\"95.410156\" xlink:href=\"#DejaVuSans-53\"/>\n      </g>\n     </g>\n    </g>\n    <g id=\"ytick_5\">\n     <g id=\"line2d_12\">\n      <g>\n       <use style=\"stroke:#000000;stroke-width:0.8;\" x=\"43.78125\" xlink:href=\"#m2f1851ba29\" y=\"68.332123\"/>\n      </g>\n     </g>\n     <g id=\"text_13\">\n      <!-- 2.0 -->\n      <g transform=\"translate(20.878125 72.131342)scale(0.1 -0.1)\">\n       <use xlink:href=\"#DejaVuSans-50\"/>\n       <use x=\"63.623047\" xlink:href=\"#DejaVuSans-46\"/>\n       <use x=\"95.410156\" xlink:href=\"#DejaVuSans-48\"/>\n      </g>\n     </g>\n    </g>\n    <g id=\"ytick_6\">\n     <g id=\"line2d_13\">\n      <g>\n       <use style=\"stroke:#000000;stroke-width:0.8;\" x=\"43.78125\" xlink:href=\"#m2f1851ba29\" y=\"31.726063\"/>\n      </g>\n     </g>\n     <g id=\"text_14\">\n      <!-- 2.5 -->\n      <g transform=\"translate(20.878125 35.525282)scale(0.1 -0.1)\">\n       <use xlink:href=\"#DejaVuSans-50\"/>\n       <use x=\"63.623047\" xlink:href=\"#DejaVuSans-46\"/>\n       <use x=\"95.410156\" xlink:href=\"#DejaVuSans-53\"/>\n      </g>\n     </g>\n    </g>\n    <g id=\"text_15\">\n     <!-- Score -->\n     <defs>\n      <path d=\"M 53.515625 70.515625 \nL 53.515625 60.890625 \nQ 47.90625 63.578125 42.921875 64.890625 \nQ 37.9375 66.21875 33.296875 66.21875 \nQ 25.25 66.21875 20.875 63.09375 \nQ 16.5 59.96875 16.5 54.203125 \nQ 16.5 49.359375 19.40625 46.890625 \nQ 22.3125 44.4375 30.421875 42.921875 \nL 36.375 41.703125 \nQ 47.40625 39.59375 52.65625 34.296875 \nQ 57.90625 29 57.90625 20.125 \nQ 57.90625 9.515625 50.796875 4.046875 \nQ 43.703125 -1.421875 29.984375 -1.421875 \nQ 24.8125 -1.421875 18.96875 -0.25 \nQ 13.140625 0.921875 6.890625 3.21875 \nL 6.890625 13.375 \nQ 12.890625 10.015625 18.65625 8.296875 \nQ 24.421875 6.59375 29.984375 6.59375 \nQ 38.421875 6.59375 43.015625 9.90625 \nQ 47.609375 13.234375 47.609375 19.390625 \nQ 47.609375 24.75 44.3125 27.78125 \nQ 41.015625 30.8125 33.5 32.328125 \nL 27.484375 33.5 \nQ 16.453125 35.6875 11.515625 40.375 \nQ 6.59375 45.0625 6.59375 53.421875 \nQ 6.59375 63.09375 13.40625 68.65625 \nQ 20.21875 74.21875 32.171875 74.21875 \nQ 37.3125 74.21875 42.625 73.28125 \nQ 47.953125 72.359375 53.515625 70.515625 \nz\n\" id=\"DejaVuSans-83\"/>\n      <path d=\"M 48.78125 52.59375 \nL 48.78125 44.1875 \nQ 44.96875 46.296875 41.140625 47.34375 \nQ 37.3125 48.390625 33.40625 48.390625 \nQ 24.65625 48.390625 19.8125 42.84375 \nQ 14.984375 37.3125 14.984375 27.296875 \nQ 14.984375 17.28125 19.8125 11.734375 \nQ 24.65625 6.203125 33.40625 6.203125 \nQ 37.3125 6.203125 41.140625 7.25 \nQ 44.96875 8.296875 48.78125 10.40625 \nL 48.78125 2.09375 \nQ 45.015625 0.34375 40.984375 -0.53125 \nQ 36.96875 -1.421875 32.421875 -1.421875 \nQ 20.0625 -1.421875 12.78125 6.34375 \nQ 5.515625 14.109375 5.515625 27.296875 \nQ 5.515625 40.671875 12.859375 48.328125 \nQ 20.21875 56 33.015625 56 \nQ 37.15625 56 41.109375 55.140625 \nQ 45.0625 54.296875 48.78125 52.59375 \nz\n\" id=\"DejaVuSans-99\"/>\n      <path d=\"M 41.109375 46.296875 \nQ 39.59375 47.171875 37.8125 47.578125 \nQ 36.03125 48 33.890625 48 \nQ 26.265625 48 22.1875 43.046875 \nQ 18.109375 38.09375 18.109375 28.8125 \nL 18.109375 0 \nL 9.078125 0 \nL 9.078125 54.6875 \nL 18.109375 54.6875 \nL 18.109375 46.1875 \nQ 20.953125 51.171875 25.484375 53.578125 \nQ 30.03125 56 36.53125 56 \nQ 37.453125 56 38.578125 55.875 \nQ 39.703125 55.765625 41.0625 55.515625 \nz\n\" id=\"DejaVuSans-114\"/>\n     </defs>\n     <g transform=\"translate(14.798438 130.033281)rotate(-90)scale(0.1 -0.1)\">\n      <use xlink:href=\"#DejaVuSans-83\"/>\n      <use x=\"63.476562\" xlink:href=\"#DejaVuSans-99\"/>\n      <use x=\"118.457031\" xlink:href=\"#DejaVuSans-111\"/>\n      <use x=\"179.638672\" xlink:href=\"#DejaVuSans-114\"/>\n      <use x=\"220.720703\" xlink:href=\"#DejaVuSans-101\"/>\n     </g>\n    </g>\n   </g>\n   <g id=\"line2d_14\">\n    <path clip-path=\"url(#p8395ad9642)\" d=\"M 58.999432 214.756364 \nL 66.246185 214.756364 \nL 66.479951 207.435152 \nL 66.713718 214.756364 \nL 95.466964 214.756364 \nL 95.700731 208.167273 \nL 95.934497 214.756364 \nL 96.168263 208.167273 \nL 96.402029 214.756364 \nL 156.713718 214.756364 \nL 156.947484 207.435152 \nL 157.18125 214.756364 \nL 163.960471 214.756364 \nL 164.194237 208.167273 \nL 164.428003 214.756364 \nL 175.415016 214.756364 \nL 175.648782 207.435152 \nL 175.882549 214.756364 \nL 176.116315 208.167273 \nL 176.350081 214.756364 \nL 177.285146 214.756364 \nL 177.518912 207.435152 \nL 177.752679 214.756364 \nL 180.79164 214.756364 \nL 181.025406 207.435152 \nL 181.259172 214.756364 \nL 182.428003 214.756364 \nL 182.661769 208.167273 \nL 182.895536 208.167273 \nL 183.129302 214.756364 \nL 183.363068 207.435152 \nL 183.596834 214.756364 \nL 183.830601 214.756364 \nL 184.064367 207.435152 \nL 184.298133 214.756364 \nL 184.765666 214.756364 \nL 184.999432 207.435152 \nL 185.466964 207.435152 \nL 185.700731 214.756364 \nL 186.402029 214.756364 \nL 186.635795 207.435152 \nL 186.869562 214.756364 \nL 188.038393 214.756364 \nL 188.272159 207.435152 \nL 188.505925 207.435152 \nL 188.739692 214.756364 \nL 188.973458 214.756364 \nL 189.207224 208.167273 \nL 189.44099 214.756364 \nL 189.674756 208.167273 \nL 189.908523 214.756364 \nL 190.142289 214.756364 \nL 190.376055 207.435152 \nL 190.609821 214.756364 \nL 190.843588 207.435152 \nL 191.077354 214.756364 \nL 191.31112 214.756364 \nL 191.544886 207.435152 \nL 191.778653 214.756364 \nL 192.012419 214.756364 \nL 192.246185 207.435152 \nL 192.479951 207.435152 \nL 192.713718 214.756364 \nL 192.947484 208.167273 \nL 193.18125 207.435152 \nL 193.415016 214.756364 \nL 193.648782 207.435152 \nL 194.350081 207.435152 \nL 194.583847 214.756364 \nL 194.817614 207.435152 \nL 195.05138 214.756364 \nL 195.285146 207.435152 \nL 195.518912 214.756364 \nL 197.622808 214.756364 \nL 197.856575 207.435152 \nL 198.090341 207.435152 \nL 198.324107 214.756364 \nL 199.025406 214.756364 \nL 199.259172 207.435152 \nL 199.492938 214.756364 \nL 200.895536 214.756364 \nL 201.129302 207.435152 \nL 201.363068 214.756364 \nL 202.298133 214.756364 \nL 202.531899 207.435152 \nL 202.765666 214.756364 \nL 202.999432 214.756364 \nL 203.233198 207.435152 \nL 203.466964 214.756364 \nL 204.168263 214.756364 \nL 204.402029 207.435152 \nL 204.635795 207.435152 \nL 204.869562 214.756364 \nL 206.272159 214.756364 \nL 206.505925 207.435152 \nL 206.739692 208.167273 \nL 206.973458 214.756364 \nL 208.142289 214.756364 \nL 208.376055 207.435152 \nL 208.609821 214.756364 \nL 208.843588 208.167273 \nL 209.077354 207.435152 \nL 209.31112 214.756364 \nL 209.544886 214.756364 \nL 209.778653 208.167273 \nL 210.012419 214.756364 \nL 210.947484 214.756364 \nL 211.18125 207.435152 \nL 212.116315 207.435152 \nL 212.350081 214.756364 \nL 212.583847 207.435152 \nL 212.817614 214.756364 \nL 213.986445 214.756364 \nL 214.220211 207.435152 \nL 214.453977 214.756364 \nL 214.687744 208.167273 \nL 214.92151 214.756364 \nL 215.856575 214.756364 \nL 216.090341 207.435152 \nL 216.324107 214.756364 \nL 216.557873 214.756364 \nL 216.79164 207.435152 \nL 217.025406 214.756364 \nL 217.259172 207.435152 \nL 217.492938 214.756364 \nL 219.596834 214.756364 \nL 219.830601 208.167273 \nL 220.064367 214.756364 \nL 222.168263 214.756364 \nL 222.402029 208.167273 \nL 222.635795 214.756364 \nL 233.856575 214.756364 \nL 234.090341 207.435152 \nL 234.324107 214.756364 \nL 234.557873 208.167273 \nL 234.79164 214.756364 \nL 235.492938 214.756364 \nL 235.726705 207.435152 \nL 236.428003 207.435152 \nL 236.661769 214.756364 \nL 236.895536 207.435152 \nL 237.129302 214.756364 \nL 237.363068 208.167273 \nL 237.596834 214.756364 \nL 237.830601 207.435152 \nL 238.064367 214.756364 \nL 238.298133 207.435152 \nL 238.531899 214.756364 \nL 238.765666 214.756364 \nL 238.999432 207.435152 \nL 239.233198 208.167273 \nL 239.466964 207.435152 \nL 239.700731 214.756364 \nL 240.168263 214.756364 \nL 240.402029 207.435152 \nL 240.635795 214.756364 \nL 240.869562 214.756364 \nL 241.103328 207.435152 \nL 241.337094 214.756364 \nL 241.57086 214.756364 \nL 241.804627 207.435152 \nL 242.038393 207.435152 \nL 242.272159 208.167273 \nL 242.505925 207.435152 \nL 242.739692 214.756364 \nL 243.207224 214.756364 \nL 243.44099 207.435152 \nL 243.674756 214.756364 \nL 243.908523 207.435152 \nL 244.142289 214.756364 \nL 244.376055 207.435152 \nL 244.609821 207.435152 \nL 244.843588 214.756364 \nL 245.077354 207.435152 \nL 245.31112 214.756364 \nL 245.544886 214.756364 \nL 245.778653 207.435152 \nL 246.713718 207.435152 \nL 246.947484 214.756364 \nL 247.18125 208.167273 \nL 247.415016 214.756364 \nL 247.648782 207.435152 \nL 247.882549 214.756364 \nL 248.350081 214.756364 \nL 248.583847 207.435152 \nL 248.817614 214.756364 \nL 249.285146 214.756364 \nL 249.518912 207.435152 \nL 249.752679 214.756364 \nL 249.986445 207.435152 \nL 250.220211 207.435152 \nL 250.453977 214.756364 \nL 250.92151 214.756364 \nL 251.155276 207.435152 \nL 251.389042 207.435152 \nL 251.622808 214.756364 \nL 252.557873 214.756364 \nL 252.79164 208.167273 \nL 253.025406 214.756364 \nL 254.194237 214.756364 \nL 254.428003 207.435152 \nL 254.661769 214.756364 \nL 255.363068 214.756364 \nL 255.596834 207.435152 \nL 255.830601 214.756364 \nL 256.064367 214.756364 \nL 256.298133 207.435152 \nL 256.531899 214.756364 \nL 256.765666 208.167273 \nL 256.999432 207.435152 \nL 257.233198 214.756364 \nL 257.466964 207.435152 \nL 257.700731 207.435152 \nL 257.934497 214.756364 \nL 258.168263 214.756364 \nL 258.402029 208.167273 \nL 258.635795 207.435152 \nL 258.869562 207.435152 \nL 259.103328 214.756364 \nL 259.337094 208.167273 \nL 259.57086 214.756364 \nL 259.804627 207.435152 \nL 260.038393 207.435152 \nL 260.272159 214.756364 \nL 260.505925 207.435152 \nL 260.739692 214.756364 \nL 260.973458 208.167273 \nL 261.207224 214.756364 \nL 261.44099 207.435152 \nL 261.674756 214.756364 \nL 261.908523 214.756364 \nL 262.142289 208.167273 \nL 262.376055 207.435152 \nL 262.609821 214.756364 \nL 262.843588 207.435152 \nL 263.077354 214.756364 \nL 263.31112 214.756364 \nL 263.544886 208.167273 \nL 263.778653 214.756364 \nL 264.012419 214.756364 \nL 264.246185 208.167273 \nL 264.713718 208.167273 \nL 264.947484 207.435152 \nL 265.18125 214.756364 \nL 265.415016 214.756364 \nL 265.648782 207.435152 \nL 266.116315 207.435152 \nL 266.350081 208.167273 \nL 266.583847 214.756364 \nL 266.817614 207.435152 \nL 267.518912 207.435152 \nL 267.752679 214.756364 \nL 268.453977 214.756364 \nL 268.687744 207.435152 \nL 268.92151 214.756364 \nL 269.155276 207.435152 \nL 269.389042 208.167273 \nL 269.622808 214.756364 \nL 270.090341 214.756364 \nL 270.324107 207.435152 \nL 270.557873 214.756364 \nL 270.79164 207.435152 \nL 271.025406 214.756364 \nL 271.259172 207.435152 \nL 271.492938 214.756364 \nL 271.726705 208.167273 \nL 271.960471 207.435152 \nL 272.194237 214.756364 \nL 272.428003 214.756364 \nL 272.895536 200.113939 \nL 273.129302 207.435152 \nL 273.363068 200.113939 \nL 273.596834 214.756364 \nL 274.531899 214.756364 \nL 274.765666 200.113939 \nL 274.999432 207.435152 \nL 275.700731 207.435152 \nL 275.934497 200.113939 \nL 276.168263 207.435152 \nL 276.635795 207.435152 \nL 276.869562 200.113939 \nL 277.337094 214.756364 \nL 277.57086 207.435152 \nL 277.804627 214.756364 \nL 278.038393 200.113939 \nL 278.505925 214.756364 \nL 278.973458 214.756364 \nL 279.207224 200.113939 \nL 279.44099 214.756364 \nL 279.674756 214.756364 \nL 279.908523 207.435152 \nL 280.142289 214.756364 \nL 280.376055 207.435152 \nL 280.609821 207.435152 \nL 280.843588 200.113939 \nL 281.077354 214.756364 \nL 281.31112 207.435152 \nL 281.544886 207.435152 \nL 281.778653 200.113939 \nL 282.012419 207.435152 \nL 282.713718 207.435152 \nL 282.947484 192.792727 \nL 283.18125 200.113939 \nL 283.648782 200.113939 \nL 283.882549 208.167273 \nL 284.116315 207.435152 \nL 284.350081 207.435152 \nL 284.583847 200.113939 \nL 284.817614 207.435152 \nL 285.05138 207.435152 \nL 285.285146 200.113939 \nL 285.518912 185.471515 \nL 285.752679 207.435152 \nL 285.986445 185.471515 \nL 286.220211 200.113939 \nL 286.453977 207.435152 \nL 287.155276 207.435152 \nL 287.389042 208.167273 \nL 287.622808 208.167273 \nL 287.856575 207.435152 \nL 288.324107 207.435152 \nL 288.557873 192.792727 \nL 288.79164 192.792727 \nL 289.025406 207.435152 \nL 289.259172 207.435152 \nL 289.492938 214.756364 \nL 289.726705 192.792727 \nL 289.960471 214.756364 \nL 290.194237 207.435152 \nL 290.895536 207.435152 \nL 291.129302 192.792727 \nL 291.363068 192.792727 \nL 291.596834 200.113939 \nL 291.830601 214.756364 \nL 292.064367 200.113939 \nL 292.298133 207.435152 \nL 292.531899 207.435152 \nL 292.765666 193.524848 \nL 292.999432 207.435152 \nL 293.233198 200.846061 \nL 293.466964 207.435152 \nL 293.700731 200.846061 \nL 293.934497 207.435152 \nL 295.337094 207.435152 \nL 295.57086 214.756364 \nL 295.804627 200.113939 \nL 296.038393 163.507879 \nL 296.272159 214.756364 \nL 296.505925 200.113939 \nL 296.739692 200.113939 \nL 297.207224 214.756364 \nL 297.44099 178.150303 \nL 297.674756 207.435152 \nL 298.142289 207.435152 \nL 298.376055 178.150303 \nL 298.609821 207.435152 \nL 298.843588 214.756364 \nL 299.077354 214.756364 \nL 299.31112 207.435152 \nL 299.544886 207.435152 \nL 299.778653 208.167273 \nL 300.012419 200.113939 \nL 300.246185 214.756364 \nL 300.479951 214.756364 \nL 300.713718 207.435152 \nL 301.18125 207.435152 \nL 301.415016 214.756364 \nL 301.648782 214.756364 \nL 302.116315 200.113939 \nL 302.350081 208.167273 \nL 302.817614 208.167273 \nL 303.05138 200.113939 \nL 303.285146 200.113939 \nL 303.518912 208.167273 \nL 303.752679 208.167273 \nL 303.986445 207.435152 \nL 304.220211 208.167273 \nL 304.453977 208.167273 \nL 304.687744 207.435152 \nL 304.92151 207.435152 \nL 305.155276 208.167273 \nL 305.389042 208.167273 \nL 305.622808 207.435152 \nL 305.856575 214.756364 \nL 306.090341 207.435152 \nL 306.324107 208.167273 \nL 306.557873 207.435152 \nL 307.025406 207.435152 \nL 307.259172 214.756364 \nL 307.726705 200.113939 \nL 307.960471 207.435152 \nL 308.661769 207.435152 \nL 308.895536 178.150303 \nL 309.129302 208.167273 \nL 309.363068 214.756364 \nL 309.596834 207.435152 \nL 310.064367 207.435152 \nL 310.298133 214.756364 \nL 310.531899 208.167273 \nL 310.765666 207.435152 \nL 310.999432 185.471515 \nL 311.233198 200.113939 \nL 311.466964 200.113939 \nL 311.700731 214.756364 \nL 311.934497 208.167273 \nL 312.168263 185.471515 \nL 312.402029 207.435152 \nL 312.635795 207.435152 \nL 312.869562 200.113939 \nL 313.103328 200.846061 \nL 313.337094 207.435152 \nL 313.57086 207.435152 \nL 313.804627 192.792727 \nL 314.038393 207.435152 \nL 314.272159 207.435152 \nL 314.505925 200.113939 \nL 314.739692 207.435152 \nL 314.973458 207.435152 \nL 315.207224 208.167273 \nL 315.44099 214.756364 \nL 315.908523 200.113939 \nL 316.142289 200.113939 \nL 316.376055 207.435152 \nL 316.609821 208.167273 \nL 316.843588 207.435152 \nL 317.31112 207.435152 \nL 317.544886 200.113939 \nL 317.778653 185.471515 \nL 318.246185 208.167273 \nL 318.479951 207.435152 \nL 318.713718 200.113939 \nL 318.947484 200.113939 \nL 319.18125 207.435152 \nL 319.415016 207.435152 \nL 319.648782 214.756364 \nL 319.882549 207.435152 \nL 320.116315 185.471515 \nL 320.350081 207.435152 \nL 320.583847 192.792727 \nL 320.817614 200.113939 \nL 321.05138 214.756364 \nL 321.285146 207.435152 \nL 321.518912 207.435152 \nL 321.752679 185.471515 \nL 321.986445 208.167273 \nL 322.220211 207.435152 \nL 322.453977 207.435152 \nL 322.687744 200.113939 \nL 322.92151 207.435152 \nL 323.155276 208.167273 \nL 323.389042 200.113939 \nL 324.090341 200.113939 \nL 324.324107 192.792727 \nL 324.557873 207.435152 \nL 324.79164 185.471515 \nL 325.025406 207.435152 \nL 325.259172 208.167273 \nL 325.492938 208.167273 \nL 325.726705 200.113939 \nL 325.960471 207.435152 \nL 326.194237 170.829091 \nL 326.428003 208.167273 \nL 326.661769 192.792727 \nL 326.895536 207.435152 \nL 327.129302 200.113939 \nL 327.363068 178.150303 \nL 327.596834 178.150303 \nL 327.830601 207.435152 \nL 328.531899 207.435152 \nL 328.765666 208.167273 \nL 328.999432 208.167273 \nL 329.233198 207.435152 \nL 329.466964 207.435152 \nL 329.700731 192.792727 \nL 329.934497 200.113939 \nL 330.168263 200.846061 \nL 330.402029 207.435152 \nL 330.635795 207.435152 \nL 330.869562 192.792727 \nL 331.103328 185.471515 \nL 331.337094 207.435152 \nL 331.804627 192.792727 \nL 332.038393 192.792727 \nL 332.272159 207.435152 \nL 332.505925 200.113939 \nL 332.739692 207.435152 \nL 332.973458 200.113939 \nL 333.207224 207.435152 \nL 333.44099 207.435152 \nL 333.674756 214.756364 \nL 333.908523 214.756364 \nL 334.142289 207.435152 \nL 334.609821 207.435152 \nL 334.843588 192.792727 \nL 335.077354 207.435152 \nL 335.31112 141.544242 \nL 335.544886 192.792727 \nL 335.778653 192.792727 \nL 336.246185 208.167273 \nL 336.479951 185.471515 \nL 336.713718 207.435152 \nL 336.947484 207.435152 \nL 337.18125 178.150303 \nL 337.648782 207.435152 \nL 337.882549 193.524848 \nL 338.116315 207.435152 \nL 338.583847 207.435152 \nL 338.817614 214.756364 \nL 339.285146 200.113939 \nL 339.518912 207.435152 \nL 339.752679 200.113939 \nL 339.986445 207.435152 \nL 340.453977 207.435152 \nL 340.687744 208.167273 \nL 340.92151 200.113939 \nL 341.155276 178.150303 \nL 341.389042 207.435152 \nL 341.622808 207.435152 \nL 341.856575 200.113939 \nL 342.324107 200.113939 \nL 342.557873 207.435152 \nL 343.025406 207.435152 \nL 343.259172 200.113939 \nL 343.492938 178.150303 \nL 343.726705 200.113939 \nL 343.960471 207.435152 \nL 344.428003 207.435152 \nL 344.661769 200.846061 \nL 344.895536 207.435152 \nL 345.596834 207.435152 \nL 345.830601 208.167273 \nL 346.064367 207.435152 \nL 346.298133 214.756364 \nL 346.531899 200.113939 \nL 346.765666 200.113939 \nL 346.999432 207.435152 \nL 348.402029 207.435152 \nL 348.635795 200.113939 \nL 348.869562 207.435152 \nL 349.804627 207.435152 \nL 350.038393 200.846061 \nL 350.272159 178.150303 \nL 350.505925 200.113939 \nL 350.739692 207.435152 \nL 350.973458 207.435152 \nL 351.207224 208.167273 \nL 351.44099 207.435152 \nL 351.908523 207.435152 \nL 352.142289 192.792727 \nL 352.376055 200.84606 \nL 352.609821 178.150303 \nL 352.843588 142.276364 \nL 353.077354 207.435152 \nL 353.544886 207.435152 \nL 353.778653 185.471515 \nL 354.012419 207.435152 \nL 354.246185 163.507879 \nL 354.479951 24.404848 \nL 354.713718 185.471515 \nL 354.947484 24.404848 \nL 355.18125 170.829091 \nL 355.648782 207.435152 \nL 355.882549 192.792727 \nL 356.116315 82.974545 \nL 356.350081 207.435152 \nL 356.583847 53.689697 \nL 356.817614 104.938182 \nL 357.05138 207.435152 \nL 357.285146 178.150303 \nL 357.518912 208.167273 \nL 358.220211 170.829091 \nL 358.453977 68.332121 \nL 358.687744 119.580606 \nL 358.92151 207.435152 \nL 359.155276 185.471515 \nL 359.389042 68.332121 \nL 359.622808 192.792727 \nL 359.856575 207.435152 \nL 360.090341 112.259394 \nL 360.324107 178.882424 \nL 360.557873 185.471515 \nL 360.79164 207.435152 \nL 361.025406 134.22303 \nL 361.259172 156.186667 \nL 361.492938 156.186667 \nL 361.726705 149.597576 \nL 361.960471 192.792727 \nL 362.194237 82.974545 \nL 362.428003 192.792727 \nL 362.661769 24.404848 \nL 362.895536 24.404848 \nL 363.129302 17.083636 \nL 363.363068 24.404848 \nL 363.363068 24.404848 \n\" style=\"fill:none;stroke:#1f77b4;stroke-linecap:square;stroke-width:1.5;\"/>\n   </g>\n   <g id=\"patch_3\">\n    <path d=\"M 43.78125 224.64 \nL 43.78125 7.2 \n\" style=\"fill:none;stroke:#000000;stroke-linecap:square;stroke-linejoin:miter;stroke-width:0.8;\"/>\n   </g>\n   <g id=\"patch_4\">\n    <path d=\"M 378.58125 224.64 \nL 378.58125 7.2 \n\" style=\"fill:none;stroke:#000000;stroke-linecap:square;stroke-linejoin:miter;stroke-width:0.8;\"/>\n   </g>\n   <g id=\"patch_5\">\n    <path d=\"M 43.78125 224.64 \nL 378.58125 224.64 \n\" style=\"fill:none;stroke:#000000;stroke-linecap:square;stroke-linejoin:miter;stroke-width:0.8;\"/>\n   </g>\n   <g id=\"patch_6\">\n    <path d=\"M 43.78125 7.2 \nL 378.58125 7.2 \n\" style=\"fill:none;stroke:#000000;stroke-linecap:square;stroke-linejoin:miter;stroke-width:0.8;\"/>\n   </g>\n  </g>\n </g>\n <defs>\n  <clipPath id=\"p8395ad9642\">\n   <rect height=\"217.44\" width=\"334.8\" x=\"43.78125\" y=\"7.2\"/>\n  </clipPath>\n </defs>\n</svg>\n",
      "text/plain": "<Figure size 432x288 with 1 Axes>"
     },
     "metadata": {
      "needs_background": "light"
     },
     "output_type": "display_data"
    }
   ],
   "source": [
    "import matplotlib.pyplot as plt\n",
    "fig = plt.figure()\n",
    "ax = fig.add_subplot(111)\n",
    "plt.plot(np.arange(1, len(score)+1), score)\n",
    "plt.ylabel('Score')\n",
    "plt.xlabel('Episode #')\n",
    "plt.show()"
   ]
  },
  {
   "cell_type": "code",
   "execution_count": 10,
   "metadata": {},
   "outputs": [
    {
     "name": "stdout",
     "output_type": "stream",
     "text": "Final score [2.70000004 2.60000004]\n"
    }
   ],
   "source": [
    "agents.agents[0].actor_local.load_state_dict(torch.load('tennis_checkpoint_actor_0.pth'))\n",
    "agents.agents[0].critic_local.load_state_dict(torch.load('tennis_checkpoint_critic_0.pth'))\n",
    "agents.agents[1].actor_local.load_state_dict(torch.load('tennis_checkpoint_actor_1.pth'))\n",
    "agents.agents[1].critic_local.load_state_dict(torch.load('tennis_checkpoint_critic_1.pth'))\n",
    "\n",
    "env_info = env.reset(train_mode=False)[brain_name]        \n",
    "states = env_info.vector_observations                  \n",
    "scores = np.zeros(num_agents)                          \n",
    "\n",
    "while True:\n",
    "    actions = agents.act(states, add_noise=False)                    \n",
    "    env_info = env.step(actions)[brain_name]        \n",
    "    next_states = env_info.vector_observations        \n",
    "    rewards = env_info.rewards                        \n",
    "    dones = env_info.local_done                 \n",
    "    scores += rewards                         \n",
    "    states = next_states                              \n",
    "    if np.any(dones):\n",
    "        print (\"Final score {}\".format(scores))\n",
    "        break"
   ]
  },
  {
   "cell_type": "code",
   "execution_count": 11,
   "metadata": {},
   "outputs": [],
   "source": [
    "env.close()"
   ]
  }
 ],
 "metadata": {
  "kernelspec": {
   "display_name": "drlnd",
   "language": "python",
   "name": "drlnd"
  },
  "language_info": {
   "codemirror_mode": {
    "name": "ipython",
    "version": 3
   },
   "file_extension": ".py",
   "mimetype": "text/x-python",
   "name": "python",
   "nbconvert_exporter": "python",
   "pygments_lexer": "ipython3",
   "version": "3.6.9"
  }
 },
 "nbformat": 4,
 "nbformat_minor": 2
}